{
  "cells": [
    {
      "cell_type": "markdown",
      "metadata": {
        "id": "VZr2Ffb2wb2i"
      },
      "source": [
        "# **Nama: Marcel Kurniawan**"
      ]
    },
    {
      "cell_type": "markdown",
      "metadata": {
        "id": "hmkjIIzuygUx"
      },
      "source": [
        "# **Instalation and Library**"
      ]
    },
    {
      "cell_type": "code",
      "execution_count": 1,
      "metadata": {
        "colab": {
          "base_uri": "https://localhost:8080/"
        },
        "id": "siqi0CWgRvSy",
        "outputId": "2b8877d4-b36b-42f0-b0ee-e1e1bed1d085"
      },
      "outputs": [
        {
          "name": "stdout",
          "output_type": "stream",
          "text": [
            "Requirement already satisfied: nlp-id in /usr/local/lib/python3.10/dist-packages (0.1.15.0)\n",
            "Requirement already satisfied: scikit-learn==1.2.2 in /usr/local/lib/python3.10/dist-packages (from nlp-id) (1.2.2)\n",
            "Requirement already satisfied: nltk==3.8.1 in /usr/local/lib/python3.10/dist-packages (from nlp-id) (3.8.1)\n",
            "Requirement already satisfied: wget==3.2 in /usr/local/lib/python3.10/dist-packages (from nlp-id) (3.2)\n",
            "Requirement already satisfied: pytest==7.3.1 in /usr/local/lib/python3.10/dist-packages (from nlp-id) (7.3.1)\n",
            "Requirement already satisfied: click in /usr/local/lib/python3.10/dist-packages (from nltk==3.8.1->nlp-id) (8.1.7)\n",
            "Requirement already satisfied: joblib in /usr/local/lib/python3.10/dist-packages (from nltk==3.8.1->nlp-id) (1.3.2)\n",
            "Requirement already satisfied: regex>=2021.8.3 in /usr/local/lib/python3.10/dist-packages (from nltk==3.8.1->nlp-id) (2023.6.3)\n",
            "Requirement already satisfied: tqdm in /usr/local/lib/python3.10/dist-packages (from nltk==3.8.1->nlp-id) (4.66.1)\n",
            "Requirement already satisfied: iniconfig in /usr/local/lib/python3.10/dist-packages (from pytest==7.3.1->nlp-id) (2.0.0)\n",
            "Requirement already satisfied: packaging in /usr/local/lib/python3.10/dist-packages (from pytest==7.3.1->nlp-id) (23.2)\n",
            "Requirement already satisfied: pluggy<2.0,>=0.12 in /usr/local/lib/python3.10/dist-packages (from pytest==7.3.1->nlp-id) (1.3.0)\n",
            "Requirement already satisfied: exceptiongroup>=1.0.0rc8 in /usr/local/lib/python3.10/dist-packages (from pytest==7.3.1->nlp-id) (1.1.3)\n",
            "Requirement already satisfied: tomli>=1.0.0 in /usr/local/lib/python3.10/dist-packages (from pytest==7.3.1->nlp-id) (2.0.1)\n",
            "Requirement already satisfied: numpy>=1.17.3 in /usr/local/lib/python3.10/dist-packages (from scikit-learn==1.2.2->nlp-id) (1.23.5)\n",
            "Requirement already satisfied: scipy>=1.3.2 in /usr/local/lib/python3.10/dist-packages (from scikit-learn==1.2.2->nlp-id) (1.11.3)\n",
            "Requirement already satisfied: threadpoolctl>=2.0.0 in /usr/local/lib/python3.10/dist-packages (from scikit-learn==1.2.2->nlp-id) (3.2.0)\n"
          ]
        }
      ],
      "source": [
        "!pip install nlp-id"
      ]
    },
    {
      "cell_type": "code",
      "execution_count": 2,
      "metadata": {
        "colab": {
          "base_uri": "https://localhost:8080/"
        },
        "id": "ZU5Kn230Ks6P",
        "outputId": "3ba2472d-62a8-47c3-d0ca-d8fa22ad94f9"
      },
      "outputs": [
        {
          "name": "stdout",
          "output_type": "stream",
          "text": [
            "Requirement already satisfied: newspaper3k in /usr/local/lib/python3.10/dist-packages (0.2.8)\n",
            "Requirement already satisfied: beautifulsoup4>=4.4.1 in /usr/local/lib/python3.10/dist-packages (from newspaper3k) (4.11.2)\n",
            "Requirement already satisfied: Pillow>=3.3.0 in /usr/local/lib/python3.10/dist-packages (from newspaper3k) (9.4.0)\n",
            "Requirement already satisfied: PyYAML>=3.11 in /usr/local/lib/python3.10/dist-packages (from newspaper3k) (6.0.1)\n",
            "Requirement already satisfied: cssselect>=0.9.2 in /usr/local/lib/python3.10/dist-packages (from newspaper3k) (1.2.0)\n",
            "Requirement already satisfied: lxml>=3.6.0 in /usr/local/lib/python3.10/dist-packages (from newspaper3k) (4.9.3)\n",
            "Requirement already satisfied: nltk>=3.2.1 in /usr/local/lib/python3.10/dist-packages (from newspaper3k) (3.8.1)\n",
            "Requirement already satisfied: requests>=2.10.0 in /usr/local/lib/python3.10/dist-packages (from newspaper3k) (2.31.0)\n",
            "Requirement already satisfied: feedparser>=5.2.1 in /usr/local/lib/python3.10/dist-packages (from newspaper3k) (6.0.10)\n",
            "Requirement already satisfied: tldextract>=2.0.1 in /usr/local/lib/python3.10/dist-packages (from newspaper3k) (5.1.0)\n",
            "Requirement already satisfied: feedfinder2>=0.0.4 in /usr/local/lib/python3.10/dist-packages (from newspaper3k) (0.0.4)\n",
            "Requirement already satisfied: jieba3k>=0.35.1 in /usr/local/lib/python3.10/dist-packages (from newspaper3k) (0.35.1)\n",
            "Requirement already satisfied: python-dateutil>=2.5.3 in /usr/local/lib/python3.10/dist-packages (from newspaper3k) (2.8.2)\n",
            "Requirement already satisfied: tinysegmenter==0.3 in /usr/local/lib/python3.10/dist-packages (from newspaper3k) (0.3)\n",
            "Requirement already satisfied: soupsieve>1.2 in /usr/local/lib/python3.10/dist-packages (from beautifulsoup4>=4.4.1->newspaper3k) (2.5)\n",
            "Requirement already satisfied: six in /usr/local/lib/python3.10/dist-packages (from feedfinder2>=0.0.4->newspaper3k) (1.16.0)\n",
            "Requirement already satisfied: sgmllib3k in /usr/local/lib/python3.10/dist-packages (from feedparser>=5.2.1->newspaper3k) (1.0.0)\n",
            "Requirement already satisfied: click in /usr/local/lib/python3.10/dist-packages (from nltk>=3.2.1->newspaper3k) (8.1.7)\n",
            "Requirement already satisfied: joblib in /usr/local/lib/python3.10/dist-packages (from nltk>=3.2.1->newspaper3k) (1.3.2)\n",
            "Requirement already satisfied: regex>=2021.8.3 in /usr/local/lib/python3.10/dist-packages (from nltk>=3.2.1->newspaper3k) (2023.6.3)\n",
            "Requirement already satisfied: tqdm in /usr/local/lib/python3.10/dist-packages (from nltk>=3.2.1->newspaper3k) (4.66.1)\n",
            "Requirement already satisfied: charset-normalizer<4,>=2 in /usr/local/lib/python3.10/dist-packages (from requests>=2.10.0->newspaper3k) (3.3.2)\n",
            "Requirement already satisfied: idna<4,>=2.5 in /usr/local/lib/python3.10/dist-packages (from requests>=2.10.0->newspaper3k) (3.4)\n",
            "Requirement already satisfied: urllib3<3,>=1.21.1 in /usr/local/lib/python3.10/dist-packages (from requests>=2.10.0->newspaper3k) (2.0.7)\n",
            "Requirement already satisfied: certifi>=2017.4.17 in /usr/local/lib/python3.10/dist-packages (from requests>=2.10.0->newspaper3k) (2023.7.22)\n",
            "Requirement already satisfied: requests-file>=1.4 in /usr/local/lib/python3.10/dist-packages (from tldextract>=2.0.1->newspaper3k) (1.5.1)\n",
            "Requirement already satisfied: filelock>=3.0.8 in /usr/local/lib/python3.10/dist-packages (from tldextract>=2.0.1->newspaper3k) (3.13.1)\n"
          ]
        }
      ],
      "source": [
        "!pip install newspaper3k"
      ]
    },
    {
      "cell_type": "code",
      "execution_count": 3,
      "metadata": {
        "colab": {
          "base_uri": "https://localhost:8080/"
        },
        "id": "6DGu5dqlTuVr",
        "outputId": "ecf18654-4641-43e5-f0fc-27b0863d7e73"
      },
      "outputs": [
        {
          "name": "stderr",
          "output_type": "stream",
          "text": [
            "[nltk_data] Downloading package punkt to /root/nltk_data...\n",
            "[nltk_data]   Package punkt is already up-to-date!\n",
            "[nltk_data] Downloading package stopwords to /root/nltk_data...\n",
            "[nltk_data]   Package stopwords is already up-to-date!\n"
          ]
        }
      ],
      "source": [
        "import re\n",
        "import nltk\n",
        "import warnings\n",
        "import pandas as pd\n",
        "import numpy as np\n",
        "nltk.download('punkt')\n",
        "nltk.download('stopwords')\n",
        "warnings.filterwarnings(\"ignore\")\n",
        "from nltk.tokenize import word_tokenize\n",
        "from nltk.corpus import stopwords\n",
        "from urllib.parse import urlparse"
      ]
    },
    {
      "cell_type": "markdown",
      "metadata": {
        "id": "B5WhoQRYLTro"
      },
      "source": [
        "# **Data Collection**"
      ]
    },
    {
      "cell_type": "markdown",
      "metadata": {
        "id": "Vj0PbmSi-d0l"
      },
      "source": [
        "Dalam proses data collection, saya telah menerapkan teknik ***web scraping*** dengan menggunakan library newspaper3k. Teknik ini digunakan untuk mengekstrak informasi dari 42 artikel berita yang mencakup tiga kategori utama: `politik`, `olahraga`, dan `hiburan`. Sumber berita yang saya ambil berasal dari sembilan media digital yang beragam. Alasan saya memilih pendekatan ini adalah karena beberapa keunggulannya, seperti:\n",
        "\n",
        "\n",
        "*   **Efisiensi dan efektivitas** -> *Web scraping* dapat dilakukan secara otomatis dan berulang, sehingga dapat menghemat waktu dan tenaga.\n",
        "*   **Keakuratan** -> Dengan *Web scraping* dapat dipastikan bahwa informasi yang diambil adalah akurat dan sesuai.\n",
        "*   **Komprehensif** -> *Web scraping* dapat digunakan untuk mengambil informasi dari berbagai sumber berita, sehingga dapat menghasilkan data yang lebih komprehensif."
      ]
    },
    {
      "cell_type": "markdown",
      "metadata": {
        "id": "WL9Lr8cSMEY8"
      },
      "source": [
        "Berikut adalah beberapa langkah yang saya lakukan untuk melakukan web scraping untuk pengambilan informasi dari berita:\n",
        "\n",
        "\n",
        "\n",
        "1.   Membuat daftar URL berita yang disimpan didalam array dari berita yang akan diambil informasinya.\n",
        "2.   Membuat code untuk dapat mengakses URL berita dan mengambil informasi yang dibutuhkan dengan mengunakan beberapa library.\n",
        "3.   Data yang didapat disimpan kedalam sebuah array yang kemudian berikutnya akan dimasukan kedalam dataframe."
      ]
    },
    {
      "cell_type": "markdown",
      "metadata": {
        "id": "EkSwAibOACNH"
      },
      "source": [
        "Untuk melakukan webscraping, disini saya menggunakan beberapa library untuk mempermudah tugas.\n",
        "\n",
        "List library:\n",
        "*   **newspaper3k** -> Mengambil informasi/isi teks yang ada didalam berita\n",
        "*   **urllib.parse** -> Secara otomatis mengambil nama media dari nama domain yang tertera pada url, dengan menggunakan libarary ini secara otomatis tidak perlu lagi melabelkan nama media secara manual. Namun tentunya dengan berbagai penyesuaian yang dilakukan dalam kode agar benar-benar hanya nama media saja yang diambil.\n",
        "\n",
        "\n",
        "\n"
      ]
    },
    {
      "cell_type": "code",
      "execution_count": null,
      "metadata": {
        "id": "srVAqUlYLh74"
      },
      "outputs": [],
      "source": [
        "from newspaper import Article\n",
        "from urllib.parse import urlparse"
      ]
    },
    {
      "cell_type": "code",
      "execution_count": null,
      "metadata": {
        "id": "cjAA6fEtOXD0"
      },
      "outputs": [],
      "source": [
        "article_url = [\"https://sports.sindonews.com/read/1242145/11/dirumorkan-gantikan-erik-ten-hag-ruben-amorim-saya-belum-dihubungi-mu-1698981115\",\n",
        "               \"https://www.kompas.id/baca/polhuk/2023/11/02/putusan-mk-soal-usia-capres-cawapres-bisa-dibatalkan\",\n",
        "               \"https://www.cnbcindonesia.com/news/20231102231013-4-486000/hasil-survei-terbaru-capres-2024-anies-vs-ganjar-vs-prabowo\",\n",
        "               \"https://www.cnnindonesia.com/hiburan/20231104155459-220-1019994/studio-beri-tawaran-baru-ke-serikat-aktor-berharap-akhiri-mogok\",\n",
        "               \"https://www.kompas.id/baca/bebas-akses/2023/10/31/konser-kla-project-harmoni-cahaya-jadi-ungkapan-syukur\",\n",
        "               \"https://www.cnnindonesia.com/olahraga/20231103221814-142-1019873/justin-hubner-bek-wolves-yang-segera-jadi-warga-indonesia\",\n",
        "               \"https://www.cnnindonesia.com/nasional/20231102161226-617-1019235/pdip-megawati-jokowi-sepakat-usung-ganjar-capres-pada-maret-2023\",\n",
        "               \"https://www.bbc.com/indonesia/articles/cz9rx70lyq9o\",\n",
        "               \"https://www.bbc.com/indonesia/articles/cjk855v62gyo\",\n",
        "               \"https://sports.sindonews.com/read/1242491/51/bagasfikri-petik-pelajaran-berharga-dari-2-laga-final-beruntun-di-eropa-1698999119\",\n",
        "               \"https://www.kompas.id/baca/bebas-akses/2023/10/30/kla-project-yang-menikmati-perjalanan\",\n",
        "               \"https://www.cnbcindonesia.com/news/20231103135005-4-486172/media-asing-soroti-politik-dinasti-di-asean-sebut-pemilu-ri\",\n",
        "               \"https://www.cnnindonesia.com/hiburan/20231103141219-227-1019628/konser-baru-pekan-depan-fan-taylor-swift-gelar-kamping-sejak-juni\",\n",
        "               \"https://bola.kompas.com/read/2023/10/30/09000008/500-peserta-ramaikan-kegiatan-lari-dan-jalan-santai-di-danau-singkarak\",\n",
        "               \"https://www.cnnindonesia.com/hiburan/20231103142442-227-1019636/5-rekomendasi-konser-dan-gig-akhir-pekan-disney-princess-the-concert\",\n",
        "               \"https://www.cnnindonesia.com/nasional/20231028122432-617-1017035/sebaran-elektabilitas-capres-di-pulau-jawa-hasil-berbagai-survei\",\n",
        "               \"https://www.bbc.com/indonesia/majalah-67270442\",\n",
        "               \"https://kabar24.bisnis.com/read/20231103/15/1710762/survei-capres-ganjar-dominasi-jateng-jatim-prabowo-kuasai-jabar-anies-jakarta\",\n",
        "               \"https://www.liputan6.com/bola/read/5444296/sir-jim-ratcliffe-akan-pecat-erik-ten-hag-tunjuk-roberto-de-zerbi-sebagai-manajer-manchester-united?page=4\",\n",
        "               \"https://nasional.kompas.com/read/2023/11/03/13543011/nasdem-pastikan-anies-muhaimin-bakal-ikut-uji-publik-yang-digelar-pp\",\n",
        "               \"https://www.cnnindonesia.com/olahraga/20231103144645-142-1019645/inggris-u-17-bawa-2-pemain-yang-sudah-merumput-di-premier-league\",\n",
        "               \"https://www.liputan6.com/news/read/5443609/headline-menanti-pengumuman-timses-capres-cawapres-pilpres-2024-berebut-tokoh-populer?page=4\",\n",
        "               \"https://bola.kompas.com/read/2023/11/03/09300078/saran-agar-mbappe-menang-ballon-d-or-bawa-psg-dan-perancis-berjaya?page=all#page2\",\n",
        "               \"https://news.detik.com/pemilu/d-7020701/janji-janji-bakal-cawapres-cak-imin-jika-menang-pilpres?single=1\",\n",
        "               \"https://hot.detik.com/berita-kpop/d-7017813/mantan-idola-k-pop-umumkan-perceraian-eks-suami-diduga-kdrt\",\n",
        "               \"https://www.liputan6.com/pemilu/read/5444235/ganjar-janjikan-haki-bisa-jadi-akses-modal-pada-pelaku-industri-kreatif?page=3\",\n",
        "               \"https://www.liputan6.com/bola/read/5444196/ditendang-manchester-united-jadon-sancho-bisa-gabung-ke-tottenham-hotspur?page=4\",\n",
        "               \"https://news.detik.com/pemilu/d-6974647/survei-capres-poltracking-di-jabar-prabowo-44-2-anies-25-ganjar-21-8\",\n",
        "               \"https://www.cnnindonesia.com/hiburan/20231102130926-220-1019087/nicolas-cage-akui-proses-syuting-superman-dan-hasil-di-the-flash-beda\",\n",
        "               \"https://www.cnnindonesia.com/nasional/20231103172502-617-1019765/cak-imin-ungkap-survei-terbaru-klaim-ada-peluang-menang-1-putaran\",\n",
        "               \"https://www.beritasatu.com/sport/1075480/prediksi-sociedad-vs-barcelona-mampukah-barca-bangkit\",\n",
        "               \"https://www.cnnindonesia.com/hiburan/20231103141007-220-1019625/sinopsis-bastille-day-the-take-bioskop-trans-tv-3-november-2023\",\n",
        "               \"https://www.liputan6.com/news/read/5431028/infografis-prabowo-usung-gibran-jadi-cawapres-di-pilpres-2024?page=3\",\n",
        "               \"https://www.beritasatu.com/sport/1075427/tumbang-atletico-gagal-puncaki-klasemen-liga-spanyol\",\n",
        "               \"https://www.bbc.com/indonesia/majalah-66394554\",\n",
        "               \"https://www.bbc.com/indonesia/articles/cpvl6n9v0epo\",\n",
        "               \"https://sport.detik.com/sepakbola/liga-inggris/d-7018772/prediksi-man-city-vs-bournemouth-the-citizens-dijagokan-menang-3-0\",\n",
        "               \"https://lifestyle.bisnis.com/read/20231104/254/1711110/sinopsis-film-budi-pekerti-tayang-di-bioskop-ini-tanggapan-para-artis\",\n",
        "               \"https://www.liputan6.com/bola/read/5438937/kepincut-performa-kepa-arrizabalaga-real-madrid-berencana-tawarkan-kontrak-permanen?page=4\",\n",
        "               \"https://lifestyle.bisnis.com/read/20231103/254/1710807/19-rekomendasi-film-psikopat-korea-alur-cerita-sadis-terbaik\",\n",
        "               \"https://bola.kompas.com/read/2023/11/03/21034978/hasil-psm-vs-persija-2-3-banjir-gol-macan-kemayoran-putus-tren-negatif?page=all#page2\",\n",
        "               \"https://lifestyle.sindonews.com/read/1015737/157/agnez-mo-yakin-hiburan-tanah-air-bisa-jadi-kiblat-internasional-karena-talenta-kita-luar-biasa-1675677730?showpage=all\"]"
      ]
    },
    {
      "cell_type": "code",
      "execution_count": null,
      "metadata": {
        "id": "QVXZd1ILefVO"
      },
      "outputs": [],
      "source": [
        "label = [\"Olahraga\",\n",
        "         \"Politik\",\n",
        "         \"Politik\",\n",
        "         \"Hiburan\",\n",
        "         \"Hiburan\",\n",
        "         \"Olahraga\",\n",
        "         \"Politik\",\n",
        "         \"Hiburan\",\n",
        "         \"Hiburan\",\n",
        "         \"Olahraga\",\n",
        "         \"Hiburan\",\n",
        "         \"Politik\",\n",
        "         \"Hiburan\",\n",
        "         \"Olahraga\",\n",
        "         \"Hiburan\",\n",
        "         \"Politik\",\n",
        "         \"Olahraga\",\n",
        "         \"Politik\",\n",
        "         \"Olahraga\",\n",
        "         \"Politik\",\n",
        "         \"Olahraga\",\n",
        "         \"Politik\",\n",
        "         \"Olahraga\",\n",
        "         \"Politik\",\n",
        "         \"Hiburan\",\n",
        "         \"Politik\",\n",
        "         \"Olahraga\",\n",
        "         \"Politik\",\n",
        "         \"Hiburan\",\n",
        "         \"Politik\",\n",
        "         \"Olahraga\",\n",
        "         \"Hiburan\",\n",
        "         \"Politik\",\n",
        "         \"Olahraga\",\n",
        "         \"Hiburan\",\n",
        "         \"Politik\",\n",
        "         \"Olahraga\",\n",
        "         \"Hiburan\",\n",
        "         \"Olahraga\",\n",
        "         \"Hiburan\",\n",
        "         \"Olahraga\",\n",
        "         \"Hiburan\"]"
      ]
    },
    {
      "cell_type": "code",
      "execution_count": null,
      "metadata": {
        "colab": {
          "base_uri": "https://localhost:8080/"
        },
        "id": "Jpxm2tfQNjnW",
        "outputId": "9d00e81a-3577-4732-d247-32b862113a77"
      },
      "outputs": [
        {
          "name": "stdout",
          "output_type": "stream",
          "text": [
            "https://sports.sindonews.com/read/1242145/11/dirumorkan-gantikan-erik-ten-hag-ruben-amorim-saya-belum-dihubungi-mu-1698981115\n",
            "https://www.kompas.id/baca/polhuk/2023/11/02/putusan-mk-soal-usia-capres-cawapres-bisa-dibatalkan\n",
            "https://www.cnbcindonesia.com/news/20231102231013-4-486000/hasil-survei-terbaru-capres-2024-anies-vs-ganjar-vs-prabowo\n",
            "https://www.cnnindonesia.com/hiburan/20231104155459-220-1019994/studio-beri-tawaran-baru-ke-serikat-aktor-berharap-akhiri-mogok\n",
            "https://www.kompas.id/baca/bebas-akses/2023/10/31/konser-kla-project-harmoni-cahaya-jadi-ungkapan-syukur\n",
            "https://www.cnnindonesia.com/olahraga/20231103221814-142-1019873/justin-hubner-bek-wolves-yang-segera-jadi-warga-indonesia\n",
            "https://www.cnnindonesia.com/nasional/20231102161226-617-1019235/pdip-megawati-jokowi-sepakat-usung-ganjar-capres-pada-maret-2023\n",
            "https://www.bbc.com/indonesia/articles/cz9rx70lyq9o\n",
            "https://www.bbc.com/indonesia/articles/cjk855v62gyo\n",
            "https://sports.sindonews.com/read/1242491/51/bagasfikri-petik-pelajaran-berharga-dari-2-laga-final-beruntun-di-eropa-1698999119\n",
            "https://www.kompas.id/baca/bebas-akses/2023/10/30/kla-project-yang-menikmati-perjalanan\n",
            "https://www.cnbcindonesia.com/news/20231103135005-4-486172/media-asing-soroti-politik-dinasti-di-asean-sebut-pemilu-ri\n",
            "https://www.cnnindonesia.com/hiburan/20231103141219-227-1019628/konser-baru-pekan-depan-fan-taylor-swift-gelar-kamping-sejak-juni\n",
            "https://bola.kompas.com/read/2023/10/30/09000008/500-peserta-ramaikan-kegiatan-lari-dan-jalan-santai-di-danau-singkarak\n",
            "https://www.cnnindonesia.com/hiburan/20231103142442-227-1019636/5-rekomendasi-konser-dan-gig-akhir-pekan-disney-princess-the-concert\n",
            "https://www.cnnindonesia.com/nasional/20231028122432-617-1017035/sebaran-elektabilitas-capres-di-pulau-jawa-hasil-berbagai-survei\n",
            "https://www.bbc.com/indonesia/majalah-67270442\n",
            "https://kabar24.bisnis.com/read/20231103/15/1710762/survei-capres-ganjar-dominasi-jateng-jatim-prabowo-kuasai-jabar-anies-jakarta\n",
            "https://www.liputan6.com/bola/read/5444296/sir-jim-ratcliffe-akan-pecat-erik-ten-hag-tunjuk-roberto-de-zerbi-sebagai-manajer-manchester-united?page=4\n",
            "https://nasional.kompas.com/read/2023/11/03/13543011/nasdem-pastikan-anies-muhaimin-bakal-ikut-uji-publik-yang-digelar-pp\n",
            "https://www.cnnindonesia.com/olahraga/20231103144645-142-1019645/inggris-u-17-bawa-2-pemain-yang-sudah-merumput-di-premier-league\n",
            "https://www.liputan6.com/news/read/5443609/headline-menanti-pengumuman-timses-capres-cawapres-pilpres-2024-berebut-tokoh-populer?page=4\n",
            "https://bola.kompas.com/read/2023/11/03/09300078/saran-agar-mbappe-menang-ballon-d-or-bawa-psg-dan-perancis-berjaya?page=all#page2\n",
            "https://news.detik.com/pemilu/d-7020701/janji-janji-bakal-cawapres-cak-imin-jika-menang-pilpres?single=1\n",
            "https://hot.detik.com/berita-kpop/d-7017813/mantan-idola-k-pop-umumkan-perceraian-eks-suami-diduga-kdrt\n",
            "https://www.liputan6.com/pemilu/read/5444235/ganjar-janjikan-haki-bisa-jadi-akses-modal-pada-pelaku-industri-kreatif?page=3\n",
            "https://www.liputan6.com/bola/read/5444196/ditendang-manchester-united-jadon-sancho-bisa-gabung-ke-tottenham-hotspur?page=4\n",
            "https://news.detik.com/pemilu/d-6974647/survei-capres-poltracking-di-jabar-prabowo-44-2-anies-25-ganjar-21-8\n",
            "https://www.cnnindonesia.com/hiburan/20231102130926-220-1019087/nicolas-cage-akui-proses-syuting-superman-dan-hasil-di-the-flash-beda\n",
            "https://www.cnnindonesia.com/nasional/20231103172502-617-1019765/cak-imin-ungkap-survei-terbaru-klaim-ada-peluang-menang-1-putaran\n",
            "https://www.beritasatu.com/sport/1075480/prediksi-sociedad-vs-barcelona-mampukah-barca-bangkit\n",
            "https://www.cnnindonesia.com/hiburan/20231103141007-220-1019625/sinopsis-bastille-day-the-take-bioskop-trans-tv-3-november-2023\n",
            "https://www.liputan6.com/news/read/5431028/infografis-prabowo-usung-gibran-jadi-cawapres-di-pilpres-2024?page=3\n",
            "https://www.beritasatu.com/sport/1075427/tumbang-atletico-gagal-puncaki-klasemen-liga-spanyol\n",
            "https://www.bbc.com/indonesia/majalah-66394554\n",
            "https://www.bbc.com/indonesia/articles/cpvl6n9v0epo\n",
            "https://sport.detik.com/sepakbola/liga-inggris/d-7018772/prediksi-man-city-vs-bournemouth-the-citizens-dijagokan-menang-3-0\n",
            "https://lifestyle.bisnis.com/read/20231104/254/1711110/sinopsis-film-budi-pekerti-tayang-di-bioskop-ini-tanggapan-para-artis\n",
            "https://www.liputan6.com/bola/read/5438937/kepincut-performa-kepa-arrizabalaga-real-madrid-berencana-tawarkan-kontrak-permanen?page=4\n",
            "https://lifestyle.bisnis.com/read/20231103/254/1710807/19-rekomendasi-film-psikopat-korea-alur-cerita-sadis-terbaik\n",
            "https://bola.kompas.com/read/2023/11/03/21034978/hasil-psm-vs-persija-2-3-banjir-gol-macan-kemayoran-putus-tren-negatif?page=all#page2\n",
            "https://lifestyle.sindonews.com/read/1015737/157/agnez-mo-yakin-hiburan-tanah-air-bisa-jadi-kiblat-internasional-karena-talenta-kita-luar-biasa-1675677730?showpage=all\n"
          ]
        }
      ],
      "source": [
        "total = len(article_url)\n",
        "data = []\n",
        "domains = []\n",
        "\n",
        "for i in range (0,total):\n",
        "  print(article_url[i])\n",
        "  article = Article(article_url[i], 'id')\n",
        "  article.download()\n",
        "  article.parse()\n",
        "  data.append(article.text)\n",
        "  domain = urlparse(article_url[i]).hostname.split('.')[1]\n",
        "  domains.append(domain)"
      ]
    },
    {
      "cell_type": "code",
      "execution_count": null,
      "metadata": {
        "id": "GEUPQvv8WvTq"
      },
      "outputs": [],
      "source": [
        "dataframes = {'Teks': data, 'Media': domains, 'Label': label}\n",
        "df = pd.DataFrame(dataframes)"
      ]
    },
    {
      "cell_type": "code",
      "execution_count": null,
      "metadata": {
        "colab": {
          "base_uri": "https://localhost:8080/",
          "height": 1000
        },
        "id": "aVJuShRoRNyC",
        "outputId": "3ad175bd-b829-496a-9cdd-32ab79acc9da"
      },
      "outputs": [
        {
          "data": {
            "text/html": [
              "\n",
              "  <div id=\"df-450add8e-d2f8-4cf1-9ced-094d6ce7aa17\" class=\"colab-df-container\">\n",
              "    <div>\n",
              "<style scoped>\n",
              "    .dataframe tbody tr th:only-of-type {\n",
              "        vertical-align: middle;\n",
              "    }\n",
              "\n",
              "    .dataframe tbody tr th {\n",
              "        vertical-align: top;\n",
              "    }\n",
              "\n",
              "    .dataframe thead th {\n",
              "        text-align: right;\n",
              "    }\n",
              "</style>\n",
              "<table border=\"1\" class=\"dataframe\">\n",
              "  <thead>\n",
              "    <tr style=\"text-align: right;\">\n",
              "      <th></th>\n",
              "      <th>Teks</th>\n",
              "      <th>Media</th>\n",
              "      <th>Label</th>\n",
              "    </tr>\n",
              "  </thead>\n",
              "  <tbody>\n",
              "    <tr>\n",
              "      <th>0</th>\n",
              "      <td>Dirumorkan Gantikan Erik ten Hag, Ruben Amorim...</td>\n",
              "      <td>sindonews</td>\n",
              "      <td>Olahraga</td>\n",
              "    </tr>\n",
              "    <tr>\n",
              "      <th>1</th>\n",
              "      <td>Mahkamah Konstitusi akan kembali menguji atura...</td>\n",
              "      <td>kompas</td>\n",
              "      <td>Politik</td>\n",
              "    </tr>\n",
              "    <tr>\n",
              "      <th>2</th>\n",
              "      <td>Surabaya, CNBC Indonesia - Accurate Research a...</td>\n",
              "      <td>cnbcindonesia</td>\n",
              "      <td>Politik</td>\n",
              "    </tr>\n",
              "    <tr>\n",
              "      <th>3</th>\n",
              "      <td>--\\n\\nPihak studio melalui asosiasinya, AMPTP,...</td>\n",
              "      <td>cnnindonesia</td>\n",
              "      <td>Hiburan</td>\n",
              "    </tr>\n",
              "    <tr>\n",
              "      <th>4</th>\n",
              "      <td>Adi Adrian mengaku tak benar-benar memikirkan ...</td>\n",
              "      <td>kompas</td>\n",
              "      <td>Hiburan</td>\n",
              "    </tr>\n",
              "    <tr>\n",
              "      <th>5</th>\n",
              "      <td>--\\n\\nKetua Umum PSSI Erick Thohir memastikan ...</td>\n",
              "      <td>cnnindonesia</td>\n",
              "      <td>Olahraga</td>\n",
              "    </tr>\n",
              "    <tr>\n",
              "      <th>6</th>\n",
              "      <td>--\\n\\nSekretaris Jenderal (Sekjen) PDIP Hasto ...</td>\n",
              "      <td>cnnindonesia</td>\n",
              "      <td>Politik</td>\n",
              "    </tr>\n",
              "    <tr>\n",
              "      <th>7</th>\n",
              "      <td>The Beatles rilis 'lagu terakhir' yang tertund...</td>\n",
              "      <td>bbc</td>\n",
              "      <td>Hiburan</td>\n",
              "    </tr>\n",
              "    <tr>\n",
              "      <th>8</th>\n",
              "      <td>Daftar 100 buku anak-anak terbaik sepanjang ma...</td>\n",
              "      <td>bbc</td>\n",
              "      <td>Hiburan</td>\n",
              "    </tr>\n",
              "    <tr>\n",
              "      <th>9</th>\n",
              "      <td>Bagas/Fikri Petik Pelajaran Berharga dari 2 La...</td>\n",
              "      <td>sindonews</td>\n",
              "      <td>Olahraga</td>\n",
              "    </tr>\n",
              "    <tr>\n",
              "      <th>10</th>\n",
              "      <td>Sehari sebelum konser berlangsung, Adi Adrian ...</td>\n",
              "      <td>kompas</td>\n",
              "      <td>Hiburan</td>\n",
              "    </tr>\n",
              "    <tr>\n",
              "      <th>11</th>\n",
              "      <td>Jakarta, CNBC Indonesia - Isu politik dinasti ...</td>\n",
              "      <td>cnbcindonesia</td>\n",
              "      <td>Politik</td>\n",
              "    </tr>\n",
              "    <tr>\n",
              "      <th>12</th>\n",
              "      <td>--\\n\\nTaylor Swift akan resmi memulai leg inte...</td>\n",
              "      <td>cnnindonesia</td>\n",
              "      <td>Hiburan</td>\n",
              "    </tr>\n",
              "    <tr>\n",
              "      <th>13</th>\n",
              "      <td>KOMPAS.com - Sekitar 500 peserta mengikuti BPK...</td>\n",
              "      <td>kompas</td>\n",
              "      <td>Olahraga</td>\n",
              "    </tr>\n",
              "    <tr>\n",
              "      <th>14</th>\n",
              "      <td>--\\n\\nSejumlah pilihan pertunjukan musik denga...</td>\n",
              "      <td>cnnindonesia</td>\n",
              "      <td>Hiburan</td>\n",
              "    </tr>\n",
              "    <tr>\n",
              "      <th>15</th>\n",
              "      <td>--\\n\\nSejumlah lembaga survei melakukan riset ...</td>\n",
              "      <td>cnnindonesia</td>\n",
              "      <td>Politik</td>\n",
              "    </tr>\n",
              "    <tr>\n",
              "      <th>16</th>\n",
              "      <td>Lionel Messi raih Ballon d’Or kedelapan, apa s...</td>\n",
              "      <td>bbc</td>\n",
              "      <td>Olahraga</td>\n",
              "    </tr>\n",
              "    <tr>\n",
              "      <th>17</th>\n",
              "      <td>Survei terbaru sejumlah lembaga menunjukkan el...</td>\n",
              "      <td>bisnis</td>\n",
              "      <td>Politik</td>\n",
              "    </tr>\n",
              "    <tr>\n",
              "      <th>18</th>\n",
              "      <td>Liputan6.com, Jakarta - Manchester United gaga...</td>\n",
              "      <td>liputan6</td>\n",
              "      <td>Olahraga</td>\n",
              "    </tr>\n",
              "    <tr>\n",
              "      <th>19</th>\n",
              "      <td>JAKARTA, KOMPAS.com - Sekretaris Jenderal (Sek...</td>\n",
              "      <td>kompas</td>\n",
              "      <td>Politik</td>\n",
              "    </tr>\n",
              "    <tr>\n",
              "      <th>20</th>\n",
              "      <td>--\\n\\nPelatih timnas Inggris U-17 Ryan Garry m...</td>\n",
              "      <td>cnnindonesia</td>\n",
              "      <td>Olahraga</td>\n",
              "    </tr>\n",
              "    <tr>\n",
              "      <th>21</th>\n",
              "      <td>Ketua Tim Nasional Pemenangan Anies Baswedan d...</td>\n",
              "      <td>liputan6</td>\n",
              "      <td>Politik</td>\n",
              "    </tr>\n",
              "    <tr>\n",
              "      <th>22</th>\n",
              "      <td>KOMPAS.com – Pelatih Paris Saint-Germain (PSG)...</td>\n",
              "      <td>kompas</td>\n",
              "      <td>Olahraga</td>\n",
              "    </tr>\n",
              "    <tr>\n",
              "      <th>23</th>\n",
              "      <td>Bakal calon wakil presiden dari Koalisi Peruba...</td>\n",
              "      <td>detik</td>\n",
              "      <td>Politik</td>\n",
              "    </tr>\n",
              "    <tr>\n",
              "      <th>24</th>\n",
              "      <td>Seorang mantan member grup idola K-Pop, Seo Sa...</td>\n",
              "      <td>detik</td>\n",
              "      <td>Hiburan</td>\n",
              "    </tr>\n",
              "    <tr>\n",
              "      <th>25</th>\n",
              "      <td>Liputan6.com, Jakarta Bakal calon presiden Gan...</td>\n",
              "      <td>liputan6</td>\n",
              "      <td>Politik</td>\n",
              "    </tr>\n",
              "    <tr>\n",
              "      <th>26</th>\n",
              "      <td>Liputan6.com, Jakarta - Jadon Sancho sudah tid...</td>\n",
              "      <td>liputan6</td>\n",
              "      <td>Olahraga</td>\n",
              "    </tr>\n",
              "    <tr>\n",
              "      <th>27</th>\n",
              "      <td>Lembaga survei Poltracking Indonesia merilis e...</td>\n",
              "      <td>detik</td>\n",
              "      <td>Politik</td>\n",
              "    </tr>\n",
              "    <tr>\n",
              "      <th>28</th>\n",
              "      <td>--\\n\\nNicolas Cage membahas penampilan kameo s...</td>\n",
              "      <td>cnnindonesia</td>\n",
              "      <td>Hiburan</td>\n",
              "    </tr>\n",
              "    <tr>\n",
              "      <th>29</th>\n",
              "      <td>--\\n\\nMuhaimin Iskandar atau Cak Imin mengklai...</td>\n",
              "      <td>cnnindonesia</td>\n",
              "      <td>Politik</td>\n",
              "    </tr>\n",
              "    <tr>\n",
              "      <th>30</th>\n",
              "      <td>Bercelona, Beritasatu.com - Usaha Barcelona un...</td>\n",
              "      <td>beritasatu</td>\n",
              "      <td>Olahraga</td>\n",
              "    </tr>\n",
              "    <tr>\n",
              "      <th>31</th>\n",
              "      <td>--\\n\\nBioskop Trans TV malam ini, Jumat (3/11)...</td>\n",
              "      <td>cnnindonesia</td>\n",
              "      <td>Hiburan</td>\n",
              "    </tr>\n",
              "    <tr>\n",
              "      <th>32</th>\n",
              "      <td>Liputan6.com, Jakarta - Teka-teki bakal calon ...</td>\n",
              "      <td>liputan6</td>\n",
              "      <td>Politik</td>\n",
              "    </tr>\n",
              "    <tr>\n",
              "      <th>33</th>\n",
              "      <td>Jakarta, Beritasatu.com - Tumbang, Atletico Ma...</td>\n",
              "      <td>beritasatu</td>\n",
              "      <td>Olahraga</td>\n",
              "    </tr>\n",
              "    <tr>\n",
              "      <th>34</th>\n",
              "      <td>Blackpink: Pengumuman Jisoo punya pacar guncan...</td>\n",
              "      <td>bbc</td>\n",
              "      <td>Hiburan</td>\n",
              "    </tr>\n",
              "    <tr>\n",
              "      <th>35</th>\n",
              "      <td>Prabowo-Gibran daftar capres-cawapres ke KPU, ...</td>\n",
              "      <td>bbc</td>\n",
              "      <td>Politik</td>\n",
              "    </tr>\n",
              "    <tr>\n",
              "      <th>36</th>\n",
              "      <td>Manchester City akan melawan Bournemouth dalam...</td>\n",
              "      <td>detik</td>\n",
              "      <td>Olahraga</td>\n",
              "    </tr>\n",
              "    <tr>\n",
              "      <th>37</th>\n",
              "      <td>Bisnis.com, JAKARTA – Setelah tayang perdana d...</td>\n",
              "      <td>bisnis</td>\n",
              "      <td>Hiburan</td>\n",
              "    </tr>\n",
              "    <tr>\n",
              "      <th>38</th>\n",
              "      <td>Liputan6.com, Jakarta Raksasa LaLiga Real Madr...</td>\n",
              "      <td>liputan6</td>\n",
              "      <td>Olahraga</td>\n",
              "    </tr>\n",
              "    <tr>\n",
              "      <th>39</th>\n",
              "      <td>Bisnis.com, JAKARTA Salah satu genre yang mena...</td>\n",
              "      <td>bisnis</td>\n",
              "      <td>Hiburan</td>\n",
              "    </tr>\n",
              "    <tr>\n",
              "      <th>40</th>\n",
              "      <td>KOMPAS.com - Persija Jakarta memutus tren nega...</td>\n",
              "      <td>kompas</td>\n",
              "      <td>Olahraga</td>\n",
              "    </tr>\n",
              "    <tr>\n",
              "      <th>41</th>\n",
              "      <td>Agnez Mo Yakin Hiburan Tanah Air Bisa Jadi Kib...</td>\n",
              "      <td>sindonews</td>\n",
              "      <td>Hiburan</td>\n",
              "    </tr>\n",
              "  </tbody>\n",
              "</table>\n",
              "</div>\n",
              "    <div class=\"colab-df-buttons\">\n",
              "\n",
              "  <div class=\"colab-df-container\">\n",
              "    <button class=\"colab-df-convert\" onclick=\"convertToInteractive('df-450add8e-d2f8-4cf1-9ced-094d6ce7aa17')\"\n",
              "            title=\"Convert this dataframe to an interactive table.\"\n",
              "            style=\"display:none;\">\n",
              "\n",
              "  <svg xmlns=\"http://www.w3.org/2000/svg\" height=\"24px\" viewBox=\"0 -960 960 960\">\n",
              "    <path d=\"M120-120v-720h720v720H120Zm60-500h600v-160H180v160Zm220 220h160v-160H400v160Zm0 220h160v-160H400v160ZM180-400h160v-160H180v160Zm440 0h160v-160H620v160ZM180-180h160v-160H180v160Zm440 0h160v-160H620v160Z\"/>\n",
              "  </svg>\n",
              "    </button>\n",
              "\n",
              "  <style>\n",
              "    .colab-df-container {\n",
              "      display:flex;\n",
              "      gap: 12px;\n",
              "    }\n",
              "\n",
              "    .colab-df-convert {\n",
              "      background-color: #E8F0FE;\n",
              "      border: none;\n",
              "      border-radius: 50%;\n",
              "      cursor: pointer;\n",
              "      display: none;\n",
              "      fill: #1967D2;\n",
              "      height: 32px;\n",
              "      padding: 0 0 0 0;\n",
              "      width: 32px;\n",
              "    }\n",
              "\n",
              "    .colab-df-convert:hover {\n",
              "      background-color: #E2EBFA;\n",
              "      box-shadow: 0px 1px 2px rgba(60, 64, 67, 0.3), 0px 1px 3px 1px rgba(60, 64, 67, 0.15);\n",
              "      fill: #174EA6;\n",
              "    }\n",
              "\n",
              "    .colab-df-buttons div {\n",
              "      margin-bottom: 4px;\n",
              "    }\n",
              "\n",
              "    [theme=dark] .colab-df-convert {\n",
              "      background-color: #3B4455;\n",
              "      fill: #D2E3FC;\n",
              "    }\n",
              "\n",
              "    [theme=dark] .colab-df-convert:hover {\n",
              "      background-color: #434B5C;\n",
              "      box-shadow: 0px 1px 3px 1px rgba(0, 0, 0, 0.15);\n",
              "      filter: drop-shadow(0px 1px 2px rgba(0, 0, 0, 0.3));\n",
              "      fill: #FFFFFF;\n",
              "    }\n",
              "  </style>\n",
              "\n",
              "    <script>\n",
              "      const buttonEl =\n",
              "        document.querySelector('#df-450add8e-d2f8-4cf1-9ced-094d6ce7aa17 button.colab-df-convert');\n",
              "      buttonEl.style.display =\n",
              "        google.colab.kernel.accessAllowed ? 'block' : 'none';\n",
              "\n",
              "      async function convertToInteractive(key) {\n",
              "        const element = document.querySelector('#df-450add8e-d2f8-4cf1-9ced-094d6ce7aa17');\n",
              "        const dataTable =\n",
              "          await google.colab.kernel.invokeFunction('convertToInteractive',\n",
              "                                                    [key], {});\n",
              "        if (!dataTable) return;\n",
              "\n",
              "        const docLinkHtml = 'Like what you see? Visit the ' +\n",
              "          '<a target=\"_blank\" href=https://colab.research.google.com/notebooks/data_table.ipynb>data table notebook</a>'\n",
              "          + ' to learn more about interactive tables.';\n",
              "        element.innerHTML = '';\n",
              "        dataTable['output_type'] = 'display_data';\n",
              "        await google.colab.output.renderOutput(dataTable, element);\n",
              "        const docLink = document.createElement('div');\n",
              "        docLink.innerHTML = docLinkHtml;\n",
              "        element.appendChild(docLink);\n",
              "      }\n",
              "    </script>\n",
              "  </div>\n",
              "\n",
              "\n",
              "<div id=\"df-9ce1cf4f-1a7b-4731-abe4-3557da8117c5\">\n",
              "  <button class=\"colab-df-quickchart\" onclick=\"quickchart('df-9ce1cf4f-1a7b-4731-abe4-3557da8117c5')\"\n",
              "            title=\"Suggest charts.\"\n",
              "            style=\"display:none;\">\n",
              "\n",
              "<svg xmlns=\"http://www.w3.org/2000/svg\" height=\"24px\"viewBox=\"0 0 24 24\"\n",
              "     width=\"24px\">\n",
              "    <g>\n",
              "        <path d=\"M19 3H5c-1.1 0-2 .9-2 2v14c0 1.1.9 2 2 2h14c1.1 0 2-.9 2-2V5c0-1.1-.9-2-2-2zM9 17H7v-7h2v7zm4 0h-2V7h2v10zm4 0h-2v-4h2v4z\"/>\n",
              "    </g>\n",
              "</svg>\n",
              "  </button>\n",
              "\n",
              "<style>\n",
              "  .colab-df-quickchart {\n",
              "      --bg-color: #E8F0FE;\n",
              "      --fill-color: #1967D2;\n",
              "      --hover-bg-color: #E2EBFA;\n",
              "      --hover-fill-color: #174EA6;\n",
              "      --disabled-fill-color: #AAA;\n",
              "      --disabled-bg-color: #DDD;\n",
              "  }\n",
              "\n",
              "  [theme=dark] .colab-df-quickchart {\n",
              "      --bg-color: #3B4455;\n",
              "      --fill-color: #D2E3FC;\n",
              "      --hover-bg-color: #434B5C;\n",
              "      --hover-fill-color: #FFFFFF;\n",
              "      --disabled-bg-color: #3B4455;\n",
              "      --disabled-fill-color: #666;\n",
              "  }\n",
              "\n",
              "  .colab-df-quickchart {\n",
              "    background-color: var(--bg-color);\n",
              "    border: none;\n",
              "    border-radius: 50%;\n",
              "    cursor: pointer;\n",
              "    display: none;\n",
              "    fill: var(--fill-color);\n",
              "    height: 32px;\n",
              "    padding: 0;\n",
              "    width: 32px;\n",
              "  }\n",
              "\n",
              "  .colab-df-quickchart:hover {\n",
              "    background-color: var(--hover-bg-color);\n",
              "    box-shadow: 0 1px 2px rgba(60, 64, 67, 0.3), 0 1px 3px 1px rgba(60, 64, 67, 0.15);\n",
              "    fill: var(--button-hover-fill-color);\n",
              "  }\n",
              "\n",
              "  .colab-df-quickchart-complete:disabled,\n",
              "  .colab-df-quickchart-complete:disabled:hover {\n",
              "    background-color: var(--disabled-bg-color);\n",
              "    fill: var(--disabled-fill-color);\n",
              "    box-shadow: none;\n",
              "  }\n",
              "\n",
              "  .colab-df-spinner {\n",
              "    border: 2px solid var(--fill-color);\n",
              "    border-color: transparent;\n",
              "    border-bottom-color: var(--fill-color);\n",
              "    animation:\n",
              "      spin 1s steps(1) infinite;\n",
              "  }\n",
              "\n",
              "  @keyframes spin {\n",
              "    0% {\n",
              "      border-color: transparent;\n",
              "      border-bottom-color: var(--fill-color);\n",
              "      border-left-color: var(--fill-color);\n",
              "    }\n",
              "    20% {\n",
              "      border-color: transparent;\n",
              "      border-left-color: var(--fill-color);\n",
              "      border-top-color: var(--fill-color);\n",
              "    }\n",
              "    30% {\n",
              "      border-color: transparent;\n",
              "      border-left-color: var(--fill-color);\n",
              "      border-top-color: var(--fill-color);\n",
              "      border-right-color: var(--fill-color);\n",
              "    }\n",
              "    40% {\n",
              "      border-color: transparent;\n",
              "      border-right-color: var(--fill-color);\n",
              "      border-top-color: var(--fill-color);\n",
              "    }\n",
              "    60% {\n",
              "      border-color: transparent;\n",
              "      border-right-color: var(--fill-color);\n",
              "    }\n",
              "    80% {\n",
              "      border-color: transparent;\n",
              "      border-right-color: var(--fill-color);\n",
              "      border-bottom-color: var(--fill-color);\n",
              "    }\n",
              "    90% {\n",
              "      border-color: transparent;\n",
              "      border-bottom-color: var(--fill-color);\n",
              "    }\n",
              "  }\n",
              "</style>\n",
              "\n",
              "  <script>\n",
              "    async function quickchart(key) {\n",
              "      const quickchartButtonEl =\n",
              "        document.querySelector('#' + key + ' button');\n",
              "      quickchartButtonEl.disabled = true;  // To prevent multiple clicks.\n",
              "      quickchartButtonEl.classList.add('colab-df-spinner');\n",
              "      try {\n",
              "        const charts = await google.colab.kernel.invokeFunction(\n",
              "            'suggestCharts', [key], {});\n",
              "      } catch (error) {\n",
              "        console.error('Error during call to suggestCharts:', error);\n",
              "      }\n",
              "      quickchartButtonEl.classList.remove('colab-df-spinner');\n",
              "      quickchartButtonEl.classList.add('colab-df-quickchart-complete');\n",
              "    }\n",
              "    (() => {\n",
              "      let quickchartButtonEl =\n",
              "        document.querySelector('#df-9ce1cf4f-1a7b-4731-abe4-3557da8117c5 button');\n",
              "      quickchartButtonEl.style.display =\n",
              "        google.colab.kernel.accessAllowed ? 'block' : 'none';\n",
              "    })();\n",
              "  </script>\n",
              "</div>\n",
              "    </div>\n",
              "  </div>\n"
            ],
            "text/plain": [
              "                                                 Teks          Media     Label\n",
              "0   Dirumorkan Gantikan Erik ten Hag, Ruben Amorim...      sindonews  Olahraga\n",
              "1   Mahkamah Konstitusi akan kembali menguji atura...         kompas   Politik\n",
              "2   Surabaya, CNBC Indonesia - Accurate Research a...  cnbcindonesia   Politik\n",
              "3   --\\n\\nPihak studio melalui asosiasinya, AMPTP,...   cnnindonesia   Hiburan\n",
              "4   Adi Adrian mengaku tak benar-benar memikirkan ...         kompas   Hiburan\n",
              "5   --\\n\\nKetua Umum PSSI Erick Thohir memastikan ...   cnnindonesia  Olahraga\n",
              "6   --\\n\\nSekretaris Jenderal (Sekjen) PDIP Hasto ...   cnnindonesia   Politik\n",
              "7   The Beatles rilis 'lagu terakhir' yang tertund...            bbc   Hiburan\n",
              "8   Daftar 100 buku anak-anak terbaik sepanjang ma...            bbc   Hiburan\n",
              "9   Bagas/Fikri Petik Pelajaran Berharga dari 2 La...      sindonews  Olahraga\n",
              "10  Sehari sebelum konser berlangsung, Adi Adrian ...         kompas   Hiburan\n",
              "11  Jakarta, CNBC Indonesia - Isu politik dinasti ...  cnbcindonesia   Politik\n",
              "12  --\\n\\nTaylor Swift akan resmi memulai leg inte...   cnnindonesia   Hiburan\n",
              "13  KOMPAS.com - Sekitar 500 peserta mengikuti BPK...         kompas  Olahraga\n",
              "14  --\\n\\nSejumlah pilihan pertunjukan musik denga...   cnnindonesia   Hiburan\n",
              "15  --\\n\\nSejumlah lembaga survei melakukan riset ...   cnnindonesia   Politik\n",
              "16  Lionel Messi raih Ballon d’Or kedelapan, apa s...            bbc  Olahraga\n",
              "17  Survei terbaru sejumlah lembaga menunjukkan el...         bisnis   Politik\n",
              "18  Liputan6.com, Jakarta - Manchester United gaga...       liputan6  Olahraga\n",
              "19  JAKARTA, KOMPAS.com - Sekretaris Jenderal (Sek...         kompas   Politik\n",
              "20  --\\n\\nPelatih timnas Inggris U-17 Ryan Garry m...   cnnindonesia  Olahraga\n",
              "21  Ketua Tim Nasional Pemenangan Anies Baswedan d...       liputan6   Politik\n",
              "22  KOMPAS.com – Pelatih Paris Saint-Germain (PSG)...         kompas  Olahraga\n",
              "23  Bakal calon wakil presiden dari Koalisi Peruba...          detik   Politik\n",
              "24  Seorang mantan member grup idola K-Pop, Seo Sa...          detik   Hiburan\n",
              "25  Liputan6.com, Jakarta Bakal calon presiden Gan...       liputan6   Politik\n",
              "26  Liputan6.com, Jakarta - Jadon Sancho sudah tid...       liputan6  Olahraga\n",
              "27  Lembaga survei Poltracking Indonesia merilis e...          detik   Politik\n",
              "28  --\\n\\nNicolas Cage membahas penampilan kameo s...   cnnindonesia   Hiburan\n",
              "29  --\\n\\nMuhaimin Iskandar atau Cak Imin mengklai...   cnnindonesia   Politik\n",
              "30  Bercelona, Beritasatu.com - Usaha Barcelona un...     beritasatu  Olahraga\n",
              "31  --\\n\\nBioskop Trans TV malam ini, Jumat (3/11)...   cnnindonesia   Hiburan\n",
              "32  Liputan6.com, Jakarta - Teka-teki bakal calon ...       liputan6   Politik\n",
              "33  Jakarta, Beritasatu.com - Tumbang, Atletico Ma...     beritasatu  Olahraga\n",
              "34  Blackpink: Pengumuman Jisoo punya pacar guncan...            bbc   Hiburan\n",
              "35  Prabowo-Gibran daftar capres-cawapres ke KPU, ...            bbc   Politik\n",
              "36  Manchester City akan melawan Bournemouth dalam...          detik  Olahraga\n",
              "37  Bisnis.com, JAKARTA – Setelah tayang perdana d...         bisnis   Hiburan\n",
              "38  Liputan6.com, Jakarta Raksasa LaLiga Real Madr...       liputan6  Olahraga\n",
              "39  Bisnis.com, JAKARTA Salah satu genre yang mena...         bisnis   Hiburan\n",
              "40  KOMPAS.com - Persija Jakarta memutus tren nega...         kompas  Olahraga\n",
              "41  Agnez Mo Yakin Hiburan Tanah Air Bisa Jadi Kib...      sindonews   Hiburan"
            ]
          },
          "execution_count": 19,
          "metadata": {},
          "output_type": "execute_result"
        }
      ],
      "source": [
        "df.head(42)"
      ]
    },
    {
      "cell_type": "code",
      "execution_count": null,
      "metadata": {
        "id": "Q6hSPa-xe5Vz"
      },
      "outputs": [],
      "source": [
        "df.to_csv('dataset.csv', index=False)"
      ]
    },
    {
      "cell_type": "markdown",
      "metadata": {
        "id": "GVcTLUpFF0g3"
      },
      "source": [
        "Setelah data dari berbagai website berita didapat, kemudian berikutnya akan disimpan kedalam dataframe serta di export menjadi .csv, hal ini dilakukan agar tidak melakukan web scraping berulang-ulang yang memakan banyak waktu mengingat website yang di-scrape cukup banyak."
      ]
    },
    {
      "cell_type": "markdown",
      "metadata": {
        "id": "oc_SLKZHgA9p"
      },
      "source": [
        "# **Data Understanding**"
      ]
    },
    {
      "cell_type": "markdown",
      "metadata": {
        "id": "Hdot1slANPyu"
      },
      "source": [
        "Karena sebelumnya dataset dari berita sudah di export menjadi .csv, maka untuk efisiensi waktu saya dapat langsung meggunakan dataset yang telah di export, sehingga saya tidak perlu mengulangi proses data collection yang cukup memakan waktu mengingat jumlah berita yang di scrape lumayan banyak yaitu sekitar 42 url."
      ]
    },
    {
      "cell_type": "code",
      "execution_count": 4,
      "metadata": {
        "id": "fSUZrJe530IO"
      },
      "outputs": [],
      "source": [
        "path = '/content/dataset.csv'"
      ]
    },
    {
      "cell_type": "code",
      "execution_count": 5,
      "metadata": {
        "id": "TZmRBlRb3q5v"
      },
      "outputs": [],
      "source": [
        "df=pd.read_csv(path)"
      ]
    },
    {
      "cell_type": "code",
      "execution_count": 6,
      "metadata": {
        "colab": {
          "base_uri": "https://localhost:8080/"
        },
        "id": "zgTXyCiwckxI",
        "outputId": "e7c7e1b3-c599-4702-a9fc-05946a9e1c75"
      },
      "outputs": [
        {
          "data": {
            "text/plain": [
              "Olahraga    14\n",
              "Politik     14\n",
              "Hiburan     14\n",
              "Name: Label, dtype: int64"
            ]
          },
          "execution_count": 6,
          "metadata": {},
          "output_type": "execute_result"
        }
      ],
      "source": [
        "df['Label'].value_counts()"
      ]
    },
    {
      "cell_type": "markdown",
      "metadata": {
        "id": "tHNXwPUysxMS"
      },
      "source": [
        "Pada data collection ini saya sengaja untuk mengambil jumlah sample yang sama untuk setiap kelas agar tidak terjadi unbalanced data yang tentunya dapat mempengaruhi performa model."
      ]
    },
    {
      "cell_type": "code",
      "execution_count": 7,
      "metadata": {
        "colab": {
          "base_uri": "https://localhost:8080/"
        },
        "id": "0RRyhEpv_JNs",
        "outputId": "421bde7b-0df5-414f-d9f9-f6489c1ed9d4"
      },
      "outputs": [
        {
          "data": {
            "text/plain": [
              "cnnindonesia     10\n",
              "kompas            7\n",
              "liputan6          6\n",
              "bbc               5\n",
              "detik             4\n",
              "sindonews         3\n",
              "bisnis            3\n",
              "cnbcindonesia     2\n",
              "beritasatu        2\n",
              "Name: Media, dtype: int64"
            ]
          },
          "execution_count": 7,
          "metadata": {},
          "output_type": "execute_result"
        }
      ],
      "source": [
        "df['Media'].value_counts()"
      ]
    },
    {
      "cell_type": "markdown",
      "metadata": {
        "id": "F_8opTAXOCSw"
      },
      "source": [
        "Berikut adalah nama dan jumlah dari setiap media digital yang digunakan beserta jumlah data setiap kategori."
      ]
    },
    {
      "cell_type": "code",
      "execution_count": 8,
      "metadata": {
        "colab": {
          "base_uri": "https://localhost:8080/",
          "height": 206
        },
        "id": "Od0NMfJEY0BK",
        "outputId": "3d39905e-12bb-4950-9187-16fbb067c57d"
      },
      "outputs": [
        {
          "data": {
            "text/html": [
              "\n",
              "  <div id=\"df-35cd544d-890a-4610-9074-fb8e0293d74c\" class=\"colab-df-container\">\n",
              "    <div>\n",
              "<style scoped>\n",
              "    .dataframe tbody tr th:only-of-type {\n",
              "        vertical-align: middle;\n",
              "    }\n",
              "\n",
              "    .dataframe tbody tr th {\n",
              "        vertical-align: top;\n",
              "    }\n",
              "\n",
              "    .dataframe thead th {\n",
              "        text-align: right;\n",
              "    }\n",
              "</style>\n",
              "<table border=\"1\" class=\"dataframe\">\n",
              "  <thead>\n",
              "    <tr style=\"text-align: right;\">\n",
              "      <th></th>\n",
              "      <th>Teks</th>\n",
              "      <th>Media</th>\n",
              "      <th>Label</th>\n",
              "    </tr>\n",
              "  </thead>\n",
              "  <tbody>\n",
              "    <tr>\n",
              "      <th>0</th>\n",
              "      <td>Dirumorkan Gantikan Erik ten Hag, Ruben Amorim...</td>\n",
              "      <td>sindonews</td>\n",
              "      <td>Olahraga</td>\n",
              "    </tr>\n",
              "    <tr>\n",
              "      <th>1</th>\n",
              "      <td>Mahkamah Konstitusi akan kembali menguji atura...</td>\n",
              "      <td>kompas</td>\n",
              "      <td>Politik</td>\n",
              "    </tr>\n",
              "    <tr>\n",
              "      <th>2</th>\n",
              "      <td>Surabaya, CNBC Indonesia - Accurate Research a...</td>\n",
              "      <td>cnbcindonesia</td>\n",
              "      <td>Politik</td>\n",
              "    </tr>\n",
              "    <tr>\n",
              "      <th>3</th>\n",
              "      <td>--\\n\\nPihak studio melalui asosiasinya, AMPTP,...</td>\n",
              "      <td>cnnindonesia</td>\n",
              "      <td>Hiburan</td>\n",
              "    </tr>\n",
              "    <tr>\n",
              "      <th>4</th>\n",
              "      <td>Adi Adrian mengaku tak benar-benar memikirkan ...</td>\n",
              "      <td>kompas</td>\n",
              "      <td>Hiburan</td>\n",
              "    </tr>\n",
              "  </tbody>\n",
              "</table>\n",
              "</div>\n",
              "    <div class=\"colab-df-buttons\">\n",
              "\n",
              "  <div class=\"colab-df-container\">\n",
              "    <button class=\"colab-df-convert\" onclick=\"convertToInteractive('df-35cd544d-890a-4610-9074-fb8e0293d74c')\"\n",
              "            title=\"Convert this dataframe to an interactive table.\"\n",
              "            style=\"display:none;\">\n",
              "\n",
              "  <svg xmlns=\"http://www.w3.org/2000/svg\" height=\"24px\" viewBox=\"0 -960 960 960\">\n",
              "    <path d=\"M120-120v-720h720v720H120Zm60-500h600v-160H180v160Zm220 220h160v-160H400v160Zm0 220h160v-160H400v160ZM180-400h160v-160H180v160Zm440 0h160v-160H620v160ZM180-180h160v-160H180v160Zm440 0h160v-160H620v160Z\"/>\n",
              "  </svg>\n",
              "    </button>\n",
              "\n",
              "  <style>\n",
              "    .colab-df-container {\n",
              "      display:flex;\n",
              "      gap: 12px;\n",
              "    }\n",
              "\n",
              "    .colab-df-convert {\n",
              "      background-color: #E8F0FE;\n",
              "      border: none;\n",
              "      border-radius: 50%;\n",
              "      cursor: pointer;\n",
              "      display: none;\n",
              "      fill: #1967D2;\n",
              "      height: 32px;\n",
              "      padding: 0 0 0 0;\n",
              "      width: 32px;\n",
              "    }\n",
              "\n",
              "    .colab-df-convert:hover {\n",
              "      background-color: #E2EBFA;\n",
              "      box-shadow: 0px 1px 2px rgba(60, 64, 67, 0.3), 0px 1px 3px 1px rgba(60, 64, 67, 0.15);\n",
              "      fill: #174EA6;\n",
              "    }\n",
              "\n",
              "    .colab-df-buttons div {\n",
              "      margin-bottom: 4px;\n",
              "    }\n",
              "\n",
              "    [theme=dark] .colab-df-convert {\n",
              "      background-color: #3B4455;\n",
              "      fill: #D2E3FC;\n",
              "    }\n",
              "\n",
              "    [theme=dark] .colab-df-convert:hover {\n",
              "      background-color: #434B5C;\n",
              "      box-shadow: 0px 1px 3px 1px rgba(0, 0, 0, 0.15);\n",
              "      filter: drop-shadow(0px 1px 2px rgba(0, 0, 0, 0.3));\n",
              "      fill: #FFFFFF;\n",
              "    }\n",
              "  </style>\n",
              "\n",
              "    <script>\n",
              "      const buttonEl =\n",
              "        document.querySelector('#df-35cd544d-890a-4610-9074-fb8e0293d74c button.colab-df-convert');\n",
              "      buttonEl.style.display =\n",
              "        google.colab.kernel.accessAllowed ? 'block' : 'none';\n",
              "\n",
              "      async function convertToInteractive(key) {\n",
              "        const element = document.querySelector('#df-35cd544d-890a-4610-9074-fb8e0293d74c');\n",
              "        const dataTable =\n",
              "          await google.colab.kernel.invokeFunction('convertToInteractive',\n",
              "                                                    [key], {});\n",
              "        if (!dataTable) return;\n",
              "\n",
              "        const docLinkHtml = 'Like what you see? Visit the ' +\n",
              "          '<a target=\"_blank\" href=https://colab.research.google.com/notebooks/data_table.ipynb>data table notebook</a>'\n",
              "          + ' to learn more about interactive tables.';\n",
              "        element.innerHTML = '';\n",
              "        dataTable['output_type'] = 'display_data';\n",
              "        await google.colab.output.renderOutput(dataTable, element);\n",
              "        const docLink = document.createElement('div');\n",
              "        docLink.innerHTML = docLinkHtml;\n",
              "        element.appendChild(docLink);\n",
              "      }\n",
              "    </script>\n",
              "  </div>\n",
              "\n",
              "\n",
              "<div id=\"df-0bd9f7e1-fcc1-48b6-8a99-b7667cba01b1\">\n",
              "  <button class=\"colab-df-quickchart\" onclick=\"quickchart('df-0bd9f7e1-fcc1-48b6-8a99-b7667cba01b1')\"\n",
              "            title=\"Suggest charts\"\n",
              "            style=\"display:none;\">\n",
              "\n",
              "<svg xmlns=\"http://www.w3.org/2000/svg\" height=\"24px\"viewBox=\"0 0 24 24\"\n",
              "     width=\"24px\">\n",
              "    <g>\n",
              "        <path d=\"M19 3H5c-1.1 0-2 .9-2 2v14c0 1.1.9 2 2 2h14c1.1 0 2-.9 2-2V5c0-1.1-.9-2-2-2zM9 17H7v-7h2v7zm4 0h-2V7h2v10zm4 0h-2v-4h2v4z\"/>\n",
              "    </g>\n",
              "</svg>\n",
              "  </button>\n",
              "\n",
              "<style>\n",
              "  .colab-df-quickchart {\n",
              "      --bg-color: #E8F0FE;\n",
              "      --fill-color: #1967D2;\n",
              "      --hover-bg-color: #E2EBFA;\n",
              "      --hover-fill-color: #174EA6;\n",
              "      --disabled-fill-color: #AAA;\n",
              "      --disabled-bg-color: #DDD;\n",
              "  }\n",
              "\n",
              "  [theme=dark] .colab-df-quickchart {\n",
              "      --bg-color: #3B4455;\n",
              "      --fill-color: #D2E3FC;\n",
              "      --hover-bg-color: #434B5C;\n",
              "      --hover-fill-color: #FFFFFF;\n",
              "      --disabled-bg-color: #3B4455;\n",
              "      --disabled-fill-color: #666;\n",
              "  }\n",
              "\n",
              "  .colab-df-quickchart {\n",
              "    background-color: var(--bg-color);\n",
              "    border: none;\n",
              "    border-radius: 50%;\n",
              "    cursor: pointer;\n",
              "    display: none;\n",
              "    fill: var(--fill-color);\n",
              "    height: 32px;\n",
              "    padding: 0;\n",
              "    width: 32px;\n",
              "  }\n",
              "\n",
              "  .colab-df-quickchart:hover {\n",
              "    background-color: var(--hover-bg-color);\n",
              "    box-shadow: 0 1px 2px rgba(60, 64, 67, 0.3), 0 1px 3px 1px rgba(60, 64, 67, 0.15);\n",
              "    fill: var(--button-hover-fill-color);\n",
              "  }\n",
              "\n",
              "  .colab-df-quickchart-complete:disabled,\n",
              "  .colab-df-quickchart-complete:disabled:hover {\n",
              "    background-color: var(--disabled-bg-color);\n",
              "    fill: var(--disabled-fill-color);\n",
              "    box-shadow: none;\n",
              "  }\n",
              "\n",
              "  .colab-df-spinner {\n",
              "    border: 2px solid var(--fill-color);\n",
              "    border-color: transparent;\n",
              "    border-bottom-color: var(--fill-color);\n",
              "    animation:\n",
              "      spin 1s steps(1) infinite;\n",
              "  }\n",
              "\n",
              "  @keyframes spin {\n",
              "    0% {\n",
              "      border-color: transparent;\n",
              "      border-bottom-color: var(--fill-color);\n",
              "      border-left-color: var(--fill-color);\n",
              "    }\n",
              "    20% {\n",
              "      border-color: transparent;\n",
              "      border-left-color: var(--fill-color);\n",
              "      border-top-color: var(--fill-color);\n",
              "    }\n",
              "    30% {\n",
              "      border-color: transparent;\n",
              "      border-left-color: var(--fill-color);\n",
              "      border-top-color: var(--fill-color);\n",
              "      border-right-color: var(--fill-color);\n",
              "    }\n",
              "    40% {\n",
              "      border-color: transparent;\n",
              "      border-right-color: var(--fill-color);\n",
              "      border-top-color: var(--fill-color);\n",
              "    }\n",
              "    60% {\n",
              "      border-color: transparent;\n",
              "      border-right-color: var(--fill-color);\n",
              "    }\n",
              "    80% {\n",
              "      border-color: transparent;\n",
              "      border-right-color: var(--fill-color);\n",
              "      border-bottom-color: var(--fill-color);\n",
              "    }\n",
              "    90% {\n",
              "      border-color: transparent;\n",
              "      border-bottom-color: var(--fill-color);\n",
              "    }\n",
              "  }\n",
              "</style>\n",
              "\n",
              "  <script>\n",
              "    async function quickchart(key) {\n",
              "      const quickchartButtonEl =\n",
              "        document.querySelector('#' + key + ' button');\n",
              "      quickchartButtonEl.disabled = true;  // To prevent multiple clicks.\n",
              "      quickchartButtonEl.classList.add('colab-df-spinner');\n",
              "      try {\n",
              "        const charts = await google.colab.kernel.invokeFunction(\n",
              "            'suggestCharts', [key], {});\n",
              "      } catch (error) {\n",
              "        console.error('Error during call to suggestCharts:', error);\n",
              "      }\n",
              "      quickchartButtonEl.classList.remove('colab-df-spinner');\n",
              "      quickchartButtonEl.classList.add('colab-df-quickchart-complete');\n",
              "    }\n",
              "    (() => {\n",
              "      let quickchartButtonEl =\n",
              "        document.querySelector('#df-0bd9f7e1-fcc1-48b6-8a99-b7667cba01b1 button');\n",
              "      quickchartButtonEl.style.display =\n",
              "        google.colab.kernel.accessAllowed ? 'block' : 'none';\n",
              "    })();\n",
              "  </script>\n",
              "</div>\n",
              "    </div>\n",
              "  </div>\n"
            ],
            "text/plain": [
              "                                                Teks          Media     Label\n",
              "0  Dirumorkan Gantikan Erik ten Hag, Ruben Amorim...      sindonews  Olahraga\n",
              "1  Mahkamah Konstitusi akan kembali menguji atura...         kompas   Politik\n",
              "2  Surabaya, CNBC Indonesia - Accurate Research a...  cnbcindonesia   Politik\n",
              "3  --\\n\\nPihak studio melalui asosiasinya, AMPTP,...   cnnindonesia   Hiburan\n",
              "4  Adi Adrian mengaku tak benar-benar memikirkan ...         kompas   Hiburan"
            ]
          },
          "execution_count": 8,
          "metadata": {},
          "output_type": "execute_result"
        }
      ],
      "source": [
        "df.head(5)"
      ]
    },
    {
      "cell_type": "code",
      "execution_count": 9,
      "metadata": {
        "colab": {
          "base_uri": "https://localhost:8080/",
          "height": 218
        },
        "id": "xoTkbOW6auev",
        "outputId": "8bc9a82c-ef45-4830-e617-e2b7a2736fd2"
      },
      "outputs": [
        {
          "data": {
            "application/vnd.google.colaboratory.intrinsic+json": {
              "type": "string"
            },
            "text/plain": [
              "'Surabaya, CNBC Indonesia - Accurate Research and Consulting Indonesia (ARCI) merilis hasil survei terbaru di Jatim terkait elektabilitas bacapres-bacawapres yang sudah mendaftar di KPU. Hasilnya Prabowo-Subianto-Gibran Rakabuming Raka berada di posisi teratas.\\n\\n\\n\\nMenurut survei ARCI, ektabilitas Prabowo-Gibran di angka 40,1%. Kemudian disusul Ganjar Pranowo-Mahfud MD 35,9%. Dan pasangan Anies Baswedan-Muhaimin Iskandar di angka 22,2%.\\n\\n\\n\\nDirektur ARCI Baihaki Sirajt membeberkan faktor Prabowo-Gibran unggul di Jatim. Salah satunya migrasi pendukung PDIP yang awalnya memilih Ganjar Pranowo, kini beralih ke Prabowo.\\n\\n\\n\\n\"Pemilih PDIP, terutama di basis Mataraman yang awalnya memilih capresnya Ganjar, kini beralih ke Prabowo karena faktor Gibran,\" kata Baihaki saat paparan di Surabaya, Rabu (1/11/2023).\\n\\n\\n\\nBaihaki menyebut sebanyak 33,7% pemilih PDIP memilih Prabowo-Gibran. Sementara 66,3% memilih Ganjar-Mahfud. Tidak ada pemilih PDIP yang ke Anies Baswedan-Muhaimin Iskandar.\\n\\n\\n\\n\"Faktor Gibran dan Jokowi memengaruhi pemilih PDIP di Jatim beralih dari Ganjar ke Prabowo. Jadi mereka kalau partai tetap memilih PDIP, tapi capresnya Prabowo,\" jelasnya.\\n\\n\\n\\nBaihaki menyebut bergabungnya Gibran membuat Prabowo mendapat limpahan suara loyalis Jokowi di Jatim. Apalagi, Jatim merupakan basis Jokowi selama dua kali Pilpres di 2014 dan 2019.\\n\\n\\n\\n\"Salah satu faktornya loyalis Jokowi yang dulunya banyak merapat ke Ganjar, kini mulai beralih ke Prabowo,\" jelasnya.\\n\\n\\n\\n\"Survei ini kami lakukan saat bacapres mendaftar ke KPU, dan saat Gibran diumumkan sebagai cawapres oleh Prabowo,\" tandasnya.\\n\\n\\n\\nSurvei ARCI dilakukan pada 22-27 Oktober 2023. Survei menggunakan metode multistage random sampling dengan jumlah sampel sebanyak 1.200 responden yang tersebar proporsional di 38 kabupaten/kota Jatim. Survei ARCI memiliki margin of error sebesar 2,8% dan tingkat kepercayaan sebesar 95%.\\n\\nBerikut hasil lengkap elektabilitas bacapres-bacawapres di Jatim versi ARCI:\\n\\n\\n\\n1. Prabowo-Gibran 40,1%\\n\\n2. Ganjar-Mahfud 35,9%\\n\\n3. Anies-Muhaimin 22,2%\\n\\nTidak tahu/tidak menjawab: 1,8%\\n\\n\\n\\nBerita selengkapnya >>> Klik di sini\\n\\n\\n\\n\\n\\nADVERTISEMENT SCROLL TO RESUME CONTENT'"
            ]
          },
          "execution_count": 9,
          "metadata": {},
          "output_type": "execute_result"
        }
      ],
      "source": [
        "df['Teks'].iloc[2]"
      ]
    },
    {
      "cell_type": "markdown",
      "metadata": {
        "id": "als9QVkDbIC1"
      },
      "source": [
        "#### **Check the Data**\n",
        "*   Disini bisa kita lihat bahwa terdapat iklan dengan kalimat sebagai berikut yang harus diclean \"ADVERTISEMENT SCROLL TO CONTINUE WITH CONTENT\"\n",
        "*   Terdapat nama media_digital dari teks, karena dengan adanya nama suatu media digital seperti cnnindonesia pada sebuah teks akan dapat mempengaruhi performa dari model.\n",
        "*   Terdapat nama kota pada opening berita sebagai contoh: Surabaya, CNBC Indonesia, pada contoh ini maka kata Surabaya akan dihapus.\n",
        "*   Terdapat angka dari teks seperti tahun, waktu, nilai dan sebagainya yang tidak memiliki konteks.\n",
        "*   Sisanya untuk lebih lengkap akan dijelaskan dan dihandling di bagian text preprocessing."
      ]
    },
    {
      "cell_type": "markdown",
      "metadata": {
        "id": "Xnj2OVFYgUyB"
      },
      "source": [
        "# **Text Prepocessing**"
      ]
    },
    {
      "cell_type": "markdown",
      "metadata": {
        "id": "_7CpG01ttvfI"
      },
      "source": [
        "#### **Data Cleansing**"
      ]
    },
    {
      "cell_type": "markdown",
      "metadata": {
        "id": "6d1G1SdcQhVz"
      },
      "source": [
        "Pada tahap text preprocessing, saya melakukan beberapa proses cleaning terhadap data ini, berikut adalah cleaning yang saya lakukan:\n",
        "\n",
        "1. Mengubah semua teks dalam DataFrame menjadi huruf kecil. Hal ini dilakukan karena data teks peka terhadap huruf besar-kecil dan mengubah semuanya menjadi huruf kecil memastikan keseragaman.\n",
        "\n",
        "2. Menghapus nama kota pada opening berita sebagai contoh: `Surabaya, CNBC Indonesia`, pada contoh ini maka kata `Surabaya` akan dihapus.\n",
        "\n",
        "3. Menghapus semua URL dari teks `Liputan6.com, KOMPAS.com` dan sebagainya.\n",
        "\n",
        "4. Menghapus domain `.com` dari teks apabila ada yang terlewat dari proses sebelumnya\n",
        "\n",
        "5. Menghapus semua angka dari teks seperti tahun, waktu, nilai dan sebagainya yang tidak memiliki konteks.\n",
        "\n",
        "6. Menghapus semua karakter non-kata dari teks seperti simbol dan karakter unik.\n",
        "\n",
        "7. Mengganti spasi berlebih dengan spasi tunggal.\n",
        "\n",
        "8. Menghapus semua tagar dari teks seperti `#MachesterUnited`.\n",
        "\n",
        "9. Menghapus semua stop words dari teks karena stopwords adalah kata-kata yang sering muncul dalam teks tetapi tidak memberikan banyak informasi tentang konten teks tersebut. Dalam bahasa Indonesia, contoh stopwords adalah `yang`, `dan`, `di`, dll.\n",
        "Dalam klasifikasi berita, tujuannya adalah untuk memahami topik atau subjek dari berita tersebut. Kata-kata yang paling informatif biasanya adalah kata-kata yang lebih jarang muncul, seperti nama, tempat, atau kata-kata khusus yang berkaitan dengan topik berita.\n",
        "\n",
        "10. Menghapus nama `media_digital` dari teks, karena dengan adanya nama suatu media digital seperti `cnnindonesia` pada sebuah teks akan dapat mempengaruhi performa dari model. Sebagai contoh sebagian besar media `cnnindonesia` berlabel `olahraga`, dengan begitu apabila kata terdapat kata `cnnindonesia` pada suatu teks, maka kemungkinan besar model cenderung akan memprediksi bahwa suatu teks yang memiliki kata `cnnindonesia` merupakan berita dengan kategori `olahraga`. Namun untuk beberapa media digital dengan nama yang umum seperti detik dan bisnis tidak akan dihapus, karena nama-nama ini umum digunakan dalam beberapa kategori berita.\n",
        "\n",
        "11. Menghapus semua kata yang berkaitan dengan iklan yang ada pada teks seperti \"ADVERTISEMENT SCROLL TO CONTINUE WITH CONTENT\", karena setiap sumber berita memiliki iklan, maka kata-kata yang berkaitan dengan iklan akan dihapus agar data bersih."
      ]
    },
    {
      "cell_type": "code",
      "execution_count": 10,
      "metadata": {
        "id": "6zSgi17LiXId"
      },
      "outputs": [],
      "source": [
        "from nltk.corpus import stopwords\n",
        "\n",
        "media_digital = [\"cnbc\", \"bbc\", \"trans\", \"cnnindonesia\", \"liputan6\",  \"kompas\", \"cnn\", \"sindonews\", \"beritasatu\"]\n",
        "advertisement = ['advertisement', 'scroll', 'to', 'continue', 'with', 'content', 'getty', 'resume', 'content']\n",
        "\n",
        "def cleansing(df):\n",
        "    stop_words = set(stopwords.words('indonesian'))\n",
        "    df_clean = df.str.lower() # mengubah semua teks dalam DataFrame menjadi huruf kecil.\n",
        "    df_clean = [re.sub(r'^.*?,\\s\\w+\\s', '', i) for i in df_clean] # menghapus nama kota pada opening berita.\n",
        "    df_clean = [re.sub(r'http\\S+|www.\\S+', '', i) for i in df_clean] # menghapus semua URL dari teks.\n",
        "    df_clean = [re.sub(r'\\S*\\.com\\S*', '', i) for i in df_clean] # menghapus domain '.com' dari teks.\n",
        "    df_clean = [re.sub(r\"\\d+\",\"\",i )for i in df_clean] # menghapus semua angka dari teks.\n",
        "    df_clean = [re.sub(r'[^\\w]', ' ', i)for i in df_clean] # menghapus semua karakter non-kata dari teks.\n",
        "    df_clean = [re.sub(r'\\s+',' ',i)for i in df_clean] # mereplace spasi berlebih dengan spasi tunggal.\n",
        "    df_clean = [re.sub(r'\\#\\S*', '', i) for i in df_clean] # menghapus semua tagar dari teks.\n",
        "    df_clean = [' '.join(word for word in i.split() if word not in stop_words) for i in df_clean] # menghapus semua stop words dari teks.\n",
        "    df_clean = [' '.join(word for word in i.split() if word not in media_digital) for i in df_clean] # menghapus semua kata yang ada dalam daftar `media_digital` dari teks.\n",
        "    df_clean = [' '.join(word for word in i.split() if word not in advertisement) for i in df_clean] # menghapus semua kata yang berkaitan dengan iklan yang ada pada teks\n",
        "\n",
        "    return df_clean"
      ]
    },
    {
      "cell_type": "code",
      "execution_count": 11,
      "metadata": {
        "id": "Jx3zo63Zjgvt"
      },
      "outputs": [],
      "source": [
        "df['clean_text']=cleansing(df['Teks'])\n",
        "clean_text=cleansing(df['Teks'])"
      ]
    },
    {
      "cell_type": "markdown",
      "metadata": {
        "id": "ANmz7YPQt4RU"
      },
      "source": [
        "#### **Hasil Setelah Cleansing**"
      ]
    },
    {
      "cell_type": "code",
      "execution_count": 12,
      "metadata": {
        "colab": {
          "base_uri": "https://localhost:8080/",
          "height": 91
        },
        "id": "o4HuN4vqrXb9",
        "outputId": "cfb8a4bc-efc5-4a45-ea7d-c883ddc62681"
      },
      "outputs": [
        {
          "data": {
            "application/vnd.google.colaboratory.intrinsic+json": {
              "type": "string"
            },
            "text/plain": [
              "'amorim dihubungi mu loading ruben amorim berkomentar rumor menggantikan peran erik ten hag pelatih manchester united foto tribuna expresso yov ruben amorim berkomentar rumor menggantikan peran erik ten hag pelatih manchester united menurutnya setan merah menghubunginya komentar situasi depannya tergantung hasil berkaitan gagasan butuhkan tim tekanan ekstra bersembunyi amorim dikutip metro jumat mengomentari dihubungi manchester united amorim amorim mengklaim menghormati kontraknya sporting lisbon mematuhinya mengomentari menghormati kontraknya dipenuhi amorim amorim masuk radar mu sukses membawa sporting lisbon memuncaki klasemen liga portugal musim amorim mencatatkan kemenangan kali imbang kalah pertandingan kompetisi'"
            ]
          },
          "execution_count": 12,
          "metadata": {},
          "output_type": "execute_result"
        }
      ],
      "source": [
        "df['clean_text'].iloc[0]"
      ]
    },
    {
      "cell_type": "code",
      "execution_count": 13,
      "metadata": {
        "colab": {
          "base_uri": "https://localhost:8080/",
          "height": 206
        },
        "id": "Yue6ydqjjxLX",
        "outputId": "c06a5da6-3a9b-4c1c-cb40-6d7d339c4cd5"
      },
      "outputs": [
        {
          "data": {
            "text/html": [
              "\n",
              "  <div id=\"df-01d08b7d-80f3-4f8c-8c6b-ced877ebc1a4\" class=\"colab-df-container\">\n",
              "    <div>\n",
              "<style scoped>\n",
              "    .dataframe tbody tr th:only-of-type {\n",
              "        vertical-align: middle;\n",
              "    }\n",
              "\n",
              "    .dataframe tbody tr th {\n",
              "        vertical-align: top;\n",
              "    }\n",
              "\n",
              "    .dataframe thead th {\n",
              "        text-align: right;\n",
              "    }\n",
              "</style>\n",
              "<table border=\"1\" class=\"dataframe\">\n",
              "  <thead>\n",
              "    <tr style=\"text-align: right;\">\n",
              "      <th></th>\n",
              "      <th>Teks</th>\n",
              "      <th>Media</th>\n",
              "      <th>Label</th>\n",
              "      <th>clean_text</th>\n",
              "    </tr>\n",
              "  </thead>\n",
              "  <tbody>\n",
              "    <tr>\n",
              "      <th>0</th>\n",
              "      <td>Dirumorkan Gantikan Erik ten Hag, Ruben Amorim...</td>\n",
              "      <td>sindonews</td>\n",
              "      <td>Olahraga</td>\n",
              "      <td>amorim dihubungi mu loading ruben amorim berko...</td>\n",
              "    </tr>\n",
              "    <tr>\n",
              "      <th>1</th>\n",
              "      <td>Mahkamah Konstitusi akan kembali menguji atura...</td>\n",
              "      <td>kompas</td>\n",
              "      <td>Politik</td>\n",
              "      <td>mahkamah konstitusi menguji aturan syarat usia...</td>\n",
              "    </tr>\n",
              "    <tr>\n",
              "      <th>2</th>\n",
              "      <td>Surabaya, CNBC Indonesia - Accurate Research a...</td>\n",
              "      <td>cnbcindonesia</td>\n",
              "      <td>Politik</td>\n",
              "      <td>indonesia accurate research and consulting ind...</td>\n",
              "    </tr>\n",
              "    <tr>\n",
              "      <th>3</th>\n",
              "      <td>--\\n\\nPihak studio melalui asosiasinya, AMPTP,...</td>\n",
              "      <td>cnnindonesia</td>\n",
              "      <td>Hiburan</td>\n",
              "      <td>studio asosiasinya amptp menawarkan penawaran ...</td>\n",
              "    </tr>\n",
              "    <tr>\n",
              "      <th>4</th>\n",
              "      <td>Adi Adrian mengaku tak benar-benar memikirkan ...</td>\n",
              "      <td>kompas</td>\n",
              "      <td>Hiburan</td>\n",
              "      <td>adi adrian mengaku memikirkan usia grup musikn...</td>\n",
              "    </tr>\n",
              "  </tbody>\n",
              "</table>\n",
              "</div>\n",
              "    <div class=\"colab-df-buttons\">\n",
              "\n",
              "  <div class=\"colab-df-container\">\n",
              "    <button class=\"colab-df-convert\" onclick=\"convertToInteractive('df-01d08b7d-80f3-4f8c-8c6b-ced877ebc1a4')\"\n",
              "            title=\"Convert this dataframe to an interactive table.\"\n",
              "            style=\"display:none;\">\n",
              "\n",
              "  <svg xmlns=\"http://www.w3.org/2000/svg\" height=\"24px\" viewBox=\"0 -960 960 960\">\n",
              "    <path d=\"M120-120v-720h720v720H120Zm60-500h600v-160H180v160Zm220 220h160v-160H400v160Zm0 220h160v-160H400v160ZM180-400h160v-160H180v160Zm440 0h160v-160H620v160ZM180-180h160v-160H180v160Zm440 0h160v-160H620v160Z\"/>\n",
              "  </svg>\n",
              "    </button>\n",
              "\n",
              "  <style>\n",
              "    .colab-df-container {\n",
              "      display:flex;\n",
              "      gap: 12px;\n",
              "    }\n",
              "\n",
              "    .colab-df-convert {\n",
              "      background-color: #E8F0FE;\n",
              "      border: none;\n",
              "      border-radius: 50%;\n",
              "      cursor: pointer;\n",
              "      display: none;\n",
              "      fill: #1967D2;\n",
              "      height: 32px;\n",
              "      padding: 0 0 0 0;\n",
              "      width: 32px;\n",
              "    }\n",
              "\n",
              "    .colab-df-convert:hover {\n",
              "      background-color: #E2EBFA;\n",
              "      box-shadow: 0px 1px 2px rgba(60, 64, 67, 0.3), 0px 1px 3px 1px rgba(60, 64, 67, 0.15);\n",
              "      fill: #174EA6;\n",
              "    }\n",
              "\n",
              "    .colab-df-buttons div {\n",
              "      margin-bottom: 4px;\n",
              "    }\n",
              "\n",
              "    [theme=dark] .colab-df-convert {\n",
              "      background-color: #3B4455;\n",
              "      fill: #D2E3FC;\n",
              "    }\n",
              "\n",
              "    [theme=dark] .colab-df-convert:hover {\n",
              "      background-color: #434B5C;\n",
              "      box-shadow: 0px 1px 3px 1px rgba(0, 0, 0, 0.15);\n",
              "      filter: drop-shadow(0px 1px 2px rgba(0, 0, 0, 0.3));\n",
              "      fill: #FFFFFF;\n",
              "    }\n",
              "  </style>\n",
              "\n",
              "    <script>\n",
              "      const buttonEl =\n",
              "        document.querySelector('#df-01d08b7d-80f3-4f8c-8c6b-ced877ebc1a4 button.colab-df-convert');\n",
              "      buttonEl.style.display =\n",
              "        google.colab.kernel.accessAllowed ? 'block' : 'none';\n",
              "\n",
              "      async function convertToInteractive(key) {\n",
              "        const element = document.querySelector('#df-01d08b7d-80f3-4f8c-8c6b-ced877ebc1a4');\n",
              "        const dataTable =\n",
              "          await google.colab.kernel.invokeFunction('convertToInteractive',\n",
              "                                                    [key], {});\n",
              "        if (!dataTable) return;\n",
              "\n",
              "        const docLinkHtml = 'Like what you see? Visit the ' +\n",
              "          '<a target=\"_blank\" href=https://colab.research.google.com/notebooks/data_table.ipynb>data table notebook</a>'\n",
              "          + ' to learn more about interactive tables.';\n",
              "        element.innerHTML = '';\n",
              "        dataTable['output_type'] = 'display_data';\n",
              "        await google.colab.output.renderOutput(dataTable, element);\n",
              "        const docLink = document.createElement('div');\n",
              "        docLink.innerHTML = docLinkHtml;\n",
              "        element.appendChild(docLink);\n",
              "      }\n",
              "    </script>\n",
              "  </div>\n",
              "\n",
              "\n",
              "<div id=\"df-9fe65b78-147e-4a26-887c-5932028b92b1\">\n",
              "  <button class=\"colab-df-quickchart\" onclick=\"quickchart('df-9fe65b78-147e-4a26-887c-5932028b92b1')\"\n",
              "            title=\"Suggest charts\"\n",
              "            style=\"display:none;\">\n",
              "\n",
              "<svg xmlns=\"http://www.w3.org/2000/svg\" height=\"24px\"viewBox=\"0 0 24 24\"\n",
              "     width=\"24px\">\n",
              "    <g>\n",
              "        <path d=\"M19 3H5c-1.1 0-2 .9-2 2v14c0 1.1.9 2 2 2h14c1.1 0 2-.9 2-2V5c0-1.1-.9-2-2-2zM9 17H7v-7h2v7zm4 0h-2V7h2v10zm4 0h-2v-4h2v4z\"/>\n",
              "    </g>\n",
              "</svg>\n",
              "  </button>\n",
              "\n",
              "<style>\n",
              "  .colab-df-quickchart {\n",
              "      --bg-color: #E8F0FE;\n",
              "      --fill-color: #1967D2;\n",
              "      --hover-bg-color: #E2EBFA;\n",
              "      --hover-fill-color: #174EA6;\n",
              "      --disabled-fill-color: #AAA;\n",
              "      --disabled-bg-color: #DDD;\n",
              "  }\n",
              "\n",
              "  [theme=dark] .colab-df-quickchart {\n",
              "      --bg-color: #3B4455;\n",
              "      --fill-color: #D2E3FC;\n",
              "      --hover-bg-color: #434B5C;\n",
              "      --hover-fill-color: #FFFFFF;\n",
              "      --disabled-bg-color: #3B4455;\n",
              "      --disabled-fill-color: #666;\n",
              "  }\n",
              "\n",
              "  .colab-df-quickchart {\n",
              "    background-color: var(--bg-color);\n",
              "    border: none;\n",
              "    border-radius: 50%;\n",
              "    cursor: pointer;\n",
              "    display: none;\n",
              "    fill: var(--fill-color);\n",
              "    height: 32px;\n",
              "    padding: 0;\n",
              "    width: 32px;\n",
              "  }\n",
              "\n",
              "  .colab-df-quickchart:hover {\n",
              "    background-color: var(--hover-bg-color);\n",
              "    box-shadow: 0 1px 2px rgba(60, 64, 67, 0.3), 0 1px 3px 1px rgba(60, 64, 67, 0.15);\n",
              "    fill: var(--button-hover-fill-color);\n",
              "  }\n",
              "\n",
              "  .colab-df-quickchart-complete:disabled,\n",
              "  .colab-df-quickchart-complete:disabled:hover {\n",
              "    background-color: var(--disabled-bg-color);\n",
              "    fill: var(--disabled-fill-color);\n",
              "    box-shadow: none;\n",
              "  }\n",
              "\n",
              "  .colab-df-spinner {\n",
              "    border: 2px solid var(--fill-color);\n",
              "    border-color: transparent;\n",
              "    border-bottom-color: var(--fill-color);\n",
              "    animation:\n",
              "      spin 1s steps(1) infinite;\n",
              "  }\n",
              "\n",
              "  @keyframes spin {\n",
              "    0% {\n",
              "      border-color: transparent;\n",
              "      border-bottom-color: var(--fill-color);\n",
              "      border-left-color: var(--fill-color);\n",
              "    }\n",
              "    20% {\n",
              "      border-color: transparent;\n",
              "      border-left-color: var(--fill-color);\n",
              "      border-top-color: var(--fill-color);\n",
              "    }\n",
              "    30% {\n",
              "      border-color: transparent;\n",
              "      border-left-color: var(--fill-color);\n",
              "      border-top-color: var(--fill-color);\n",
              "      border-right-color: var(--fill-color);\n",
              "    }\n",
              "    40% {\n",
              "      border-color: transparent;\n",
              "      border-right-color: var(--fill-color);\n",
              "      border-top-color: var(--fill-color);\n",
              "    }\n",
              "    60% {\n",
              "      border-color: transparent;\n",
              "      border-right-color: var(--fill-color);\n",
              "    }\n",
              "    80% {\n",
              "      border-color: transparent;\n",
              "      border-right-color: var(--fill-color);\n",
              "      border-bottom-color: var(--fill-color);\n",
              "    }\n",
              "    90% {\n",
              "      border-color: transparent;\n",
              "      border-bottom-color: var(--fill-color);\n",
              "    }\n",
              "  }\n",
              "</style>\n",
              "\n",
              "  <script>\n",
              "    async function quickchart(key) {\n",
              "      const quickchartButtonEl =\n",
              "        document.querySelector('#' + key + ' button');\n",
              "      quickchartButtonEl.disabled = true;  // To prevent multiple clicks.\n",
              "      quickchartButtonEl.classList.add('colab-df-spinner');\n",
              "      try {\n",
              "        const charts = await google.colab.kernel.invokeFunction(\n",
              "            'suggestCharts', [key], {});\n",
              "      } catch (error) {\n",
              "        console.error('Error during call to suggestCharts:', error);\n",
              "      }\n",
              "      quickchartButtonEl.classList.remove('colab-df-spinner');\n",
              "      quickchartButtonEl.classList.add('colab-df-quickchart-complete');\n",
              "    }\n",
              "    (() => {\n",
              "      let quickchartButtonEl =\n",
              "        document.querySelector('#df-9fe65b78-147e-4a26-887c-5932028b92b1 button');\n",
              "      quickchartButtonEl.style.display =\n",
              "        google.colab.kernel.accessAllowed ? 'block' : 'none';\n",
              "    })();\n",
              "  </script>\n",
              "</div>\n",
              "    </div>\n",
              "  </div>\n"
            ],
            "text/plain": [
              "                                                Teks          Media     Label  \\\n",
              "0  Dirumorkan Gantikan Erik ten Hag, Ruben Amorim...      sindonews  Olahraga   \n",
              "1  Mahkamah Konstitusi akan kembali menguji atura...         kompas   Politik   \n",
              "2  Surabaya, CNBC Indonesia - Accurate Research a...  cnbcindonesia   Politik   \n",
              "3  --\\n\\nPihak studio melalui asosiasinya, AMPTP,...   cnnindonesia   Hiburan   \n",
              "4  Adi Adrian mengaku tak benar-benar memikirkan ...         kompas   Hiburan   \n",
              "\n",
              "                                          clean_text  \n",
              "0  amorim dihubungi mu loading ruben amorim berko...  \n",
              "1  mahkamah konstitusi menguji aturan syarat usia...  \n",
              "2  indonesia accurate research and consulting ind...  \n",
              "3  studio asosiasinya amptp menawarkan penawaran ...  \n",
              "4  adi adrian mengaku memikirkan usia grup musikn...  "
            ]
          },
          "execution_count": 13,
          "metadata": {},
          "output_type": "execute_result"
        }
      ],
      "source": [
        "df.head()"
      ]
    },
    {
      "cell_type": "markdown",
      "metadata": {
        "id": "P7vestysp03l"
      },
      "source": [
        "Pada dataframe ini bisa kita lihat perbandingan data yang sebelum dibersihkan dan yang setelah dibersihkan. Data yang telah dibersihkan ini nantinya akan dilakukan proses splitting, lemmatization dan tokenization."
      ]
    },
    {
      "cell_type": "markdown",
      "metadata": {
        "id": "LjnlromcnohV"
      },
      "source": [
        "# **Splitting Dataset, Lemmatization and Tokenization**"
      ]
    },
    {
      "cell_type": "markdown",
      "metadata": {
        "id": "nIGWs38YBlPb"
      },
      "source": [
        "#### **Splitting Dataset**"
      ]
    },
    {
      "cell_type": "markdown",
      "metadata": {
        "id": "bezFLbL5uFZM"
      },
      "source": [
        "Sebelum memulai proses lemmatization, tokenization dan *text representation*, data harus split terlebih dahulu untuk mencegah **Data leakage**. Data Leakage terjadi ketika informasi dari data testing bocor ke dalam data training. Oleh karena itu, hanya dokumen dari data training yang digunakan dalam proses training.\n",
        "\n",
        "Dalam proses splitting data ini, saya membagi dataset menjadi 80% untuk training dan 20% untuk testing. Saya juga menggunakan  **random state** sebesar 42 untuk memastikan konsistensi performa model."
      ]
    },
    {
      "cell_type": "code",
      "execution_count": 14,
      "metadata": {
        "id": "ZPBLBrpZnq-7"
      },
      "outputs": [],
      "source": [
        "from sklearn.model_selection import train_test_split\n",
        "from sklearn.metrics import accuracy_score, recall_score, precision_score, f1_score, roc_auc_score, log_loss\n",
        "from sklearn.metrics import classification_report, confusion_matrix"
      ]
    },
    {
      "cell_type": "code",
      "execution_count": 15,
      "metadata": {
        "id": "1ZvZIvVfntg4"
      },
      "outputs": [],
      "source": [
        "x_train, x_test, y_train, y_test = train_test_split(df['clean_text'], df['Label'], test_size = 0.2, random_state = 42)"
      ]
    },
    {
      "cell_type": "code",
      "execution_count": 16,
      "metadata": {
        "colab": {
          "base_uri": "https://localhost:8080/"
        },
        "id": "TZmmLb_bn6nH",
        "outputId": "386f0505-0935-4361-9f0b-3e303d9337bf"
      },
      "outputs": [
        {
          "data": {
            "text/plain": [
              "6     sekretaris jenderal sekjen pdip hasto kristiya...\n",
              "27    capres koalisi indonesia maju prabowo subianto...\n",
              "12    taylor swift resmi leg internasional the eras ...\n",
              "17    mengusai jabar anies rajai jakarta smallest fo...\n",
              "9     bagas fikri petik pelajaran berharga laga fina...\n",
              "15    lembaga survei riset memetakan elektabilitas c...\n",
              "33    madrid gagal memuncaki klasemen liga spanyol j...\n",
              "16    rekor rekornya dipecahkan andy cryer sport okt...\n",
              "36    manchester city melawan bournemouth lanjutan l...\n",
              "35    untung buntung sumber gambar foto keterangan g...\n",
              "0     amorim dihubungi mu loading ruben amorim berko...\n",
              "24    sarang muncul kabar mengejutkan mengumumkan pe...\n",
              "5     ketua pssi erick thohir proses naturalisasi pe...\n",
              "11    indonesia isu politik dinasti asia tenggara so...\n",
              "40    persija jakarta memutus tren negatif menang dr...\n",
              "1     mahkamah konstitusi menguji aturan syarat usia...\n",
              "31    bioskop tv malam jumat menayangkan bastille da...\n",
              "21    salah partai pengusung pasangan anies cak imin...\n",
              "2     indonesia accurate research and consulting ind...\n",
              "32    teka teki calon wakil presiden cawapres pendam...\n",
              "41    agnez mo hiburan tanah air kiblat internasiona...\n",
              "3     studio asosiasinya amptp menawarkan penawaran ...\n",
              "37    tayang perdana festival film internasional tor...\n",
              "23    iskandar cak imin janji terpilih wapres pilpre...\n",
              "34    blackpink pengumuman jisoo pacar guncang indus...\n",
              "10    adrian serius memelototi kibornya diiringi sor...\n",
              "22    enrique saran kylian mbappe meraih penghargaan...\n",
              "18    manchester united gagal mempertahankan gelar c...\n",
              "20    pelatih timnas inggris u ryan garry memanggil ...\n",
              "7     the beatles rilis lagu tertunda puluhan sumber...\n",
              "14    pilihan pertunjukan musik skala meramaikan pek...\n",
              "28    nicolas cage membahas penampilan kameo superma...\n",
              "38    raksasa laliga real madrid nampaknya kepincut ...\n",
              "Name: clean_text, dtype: object"
            ]
          },
          "execution_count": 16,
          "metadata": {},
          "output_type": "execute_result"
        }
      ],
      "source": [
        "x_train"
      ]
    },
    {
      "cell_type": "code",
      "execution_count": 17,
      "metadata": {
        "colab": {
          "base_uri": "https://localhost:8080/"
        },
        "id": "qTm85-NdM_Md",
        "outputId": "40eb3795-709b-41b4-c547-873af31902ed"
      },
      "outputs": [
        {
          "data": {
            "text/plain": [
              "25    calon presiden ganjar pranowo mengunjungi pame...\n",
              "13    mutiara taba kabupaten tanah datar provinsi su...\n",
              "8     daftar buku anak anak terbaik hasil jajak pend...\n",
              "26    jadon sancho bermain manchester united agustus...\n",
              "4     adi adrian mengaku memikirkan usia grup musikn...\n",
              "39    salah genre menarik perhatian penonton film ps...\n",
              "19    baswedan muhaimin iskandar mengikuti uji publi...\n",
              "29    muhaimin iskandar cak imin mengklaim peluang a...\n",
              "30    wib barca menatap laga kepercayaan mental pasu...\n",
              "Name: clean_text, dtype: object"
            ]
          },
          "execution_count": 17,
          "metadata": {},
          "output_type": "execute_result"
        }
      ],
      "source": [
        "x_test"
      ]
    },
    {
      "cell_type": "markdown",
      "metadata": {
        "id": "tQ7-vs9h3haA"
      },
      "source": [
        "#### **Lemmatization**"
      ]
    },
    {
      "cell_type": "markdown",
      "metadata": {
        "id": "TKJzgXIc6SiM"
      },
      "source": [
        "Saya melakukan Lemmatization terhadap data training dengan alasan karena pada klasifikasi topik berita, lebih baik datanya di lemmatize karena **dapat membantu meningkatkan akurasi klasifikasi**. Lemmatization adalah proses mengubah kata ke bentuk dasarnya. Dengan lemmatization, kata-kata yang memiliki arti yang sama akan dikelompokkan menjadi satu. Untuk data testing sendiri akan mengikuti saja.\n",
        "\n",
        "Misalnya, kata `membaca`, `membacakan`, dan `dibaca` memiliki arti yang sama, yaitu `proses memahami teks`. Dengan lemmatization, kata-kata tersebut akan diubah menjadi `baca`.\n",
        "\n",
        "Pada klasifikasi topik berita, lemmatization dapat membantu meningkatkan akurasi klasifikasi dengan lemmatization kata-kata yang memiliki arti yang sama akan dikelompokkan menjadi satu. Hal ini dapat mengurangi jumlah fitur yang perlu dipertimbangkan oleh model klasifikasi, sehingga dapat meningkatkan efisiensi dan akurasi klasifikasi."
      ]
    },
    {
      "cell_type": "code",
      "execution_count": 18,
      "metadata": {
        "id": "eSSHyHOrxmmS"
      },
      "outputs": [],
      "source": [
        "from nlp_id.lemmatizer import Lemmatizer\n",
        "lemmatizer = Lemmatizer()"
      ]
    },
    {
      "cell_type": "code",
      "execution_count": 19,
      "metadata": {
        "id": "dAgEoML-yAhJ"
      },
      "outputs": [],
      "source": [
        "x_train=x_train.apply(lemmatizer.lemmatize)"
      ]
    },
    {
      "cell_type": "code",
      "execution_count": 20,
      "metadata": {
        "colab": {
          "base_uri": "https://localhost:8080/"
        },
        "id": "LjXKnhuGEV40",
        "outputId": "0a004176-0302-4653-fd01-d0f55cf56671"
      },
      "outputs": [
        {
          "data": {
            "text/plain": [
              "6     sekretaris jenderal sekjen pdip hasto kristiya...\n",
              "27    capres koalisi indonesia maju prabowo subianto...\n",
              "12    taylor swift resmi leg internasional the eras ...\n",
              "17    usai jabar anies raja jakarta smallest font la...\n",
              "9     bagas fikri petik ajar harga laga final untun ...\n",
              "15    lembaga survei riset peta elektabilitas calon ...\n",
              "33    madrid gagal puncak klasemen liga spanyol juma...\n",
              "16    rekor rekor pecah andy cryer sport oktober sum...\n",
              "36    manchester city lawan bournemouth lanjut liga ...\n",
              "35    untung buntung sumber gambar foto terang gamba...\n",
              "0     amorim hubung mu loading ruben amorim komentar...\n",
              "24    sarang muncul kabar kejut umum cerai suami lee...\n",
              "5     ketua pssi erick thohir proses naturalisasi ma...\n",
              "11    indonesia isu politik dinasti asia tenggara so...\n",
              "40    persija jakarta putus tren negatif menang dram...\n",
              "1     mahkamah konstitusi uji atur syarat usia capre...\n",
              "31    bioskop tv malam jumat tayang bastille day the...\n",
              "21    salah partai usung pasang anies cak imin kapte...\n",
              "2     indonesia accurate research and consulting ind...\n",
              "32    teka teki calon wakil presiden cawapres dampin...\n",
              "41    agnez mo hibur tanah air kiblat internasional ...\n",
              "3     studio asosiasi amptp tawar tawar serikat akto...\n",
              "37    tayang perdana festival film internasional tor...\n",
              "23    iskandar cak imin janji pilih wapres pilpres j...\n",
              "34    blackpink umum jisoo pacar guncang industri k ...\n",
              "10    adrian serius pelotot kibornya iring sorot lam...\n",
              "22    enrique saran kylian mbappe raih harga ballon ...\n",
              "18    manchester united gagal tahan gelar carabao cu...\n",
              "20    latih timnas inggris u ryan garry panggil main...\n",
              "7     the beatles rilis lagu tunda puluh sumber gamb...\n",
              "14    pilih tunjuk musik skala ramai pekan november ...\n",
              "28    nicolas cage bahas tampil kameo superman the f...\n",
              "38    raksasa laliga real madrid nampaknya kepincut ...\n",
              "Name: clean_text, dtype: object"
            ]
          },
          "execution_count": 20,
          "metadata": {},
          "output_type": "execute_result"
        }
      ],
      "source": [
        "x_train"
      ]
    },
    {
      "cell_type": "markdown",
      "metadata": {
        "id": "pjOqI2ICpTBP"
      },
      "source": [
        "#### **Tokenization**"
      ]
    },
    {
      "cell_type": "markdown",
      "metadata": {
        "id": "LpvzdGgvFEtL"
      },
      "source": [
        "Setelah di Lemmatize, data training akan ditokenize terlebih dahulu sebelum masuk kedalam *text representation*.\n",
        "\n",
        "\n",
        "---\n",
        "\n",
        "\n",
        "\n",
        "Pada tokenization ini saya menggunakan `Tokenizer` dari `nlp_id` karena lebih sesuai dengan bahasa Indonesia. Saya tidak menggunakan `PharseTokenizer` dari `nlp_id` untuk mendapatkan single atau multi-word token karena sebelumnya data telah dilower case sehingga `PharseTokenizer` tidak dapat menangkap multi-word dengan baik sehingga banyak kesalahan yang dihasilkan seperti gambar dibawah ini.\n",
        "\n",
        "\n",
        "![Screenshot 2023-11-05 001228.png](data:image/png;base64,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)"
      ]
    },
    {
      "cell_type": "markdown",
      "metadata": {
        "id": "_ffVKo02Ce-i"
      },
      "source": [
        "Sebelumnya saya juga sudah melakukan percobaan dimana saya tidak melakukan case folding pada data, namun PharserTokenizer tetap tidak dapat menangkap multi-word token dengan baik."
      ]
    },
    {
      "cell_type": "code",
      "execution_count": 21,
      "metadata": {
        "id": "cTON3DuHxLbX"
      },
      "outputs": [],
      "source": [
        "from nlp_id.tokenizer import Tokenizer"
      ]
    },
    {
      "cell_type": "code",
      "execution_count": 22,
      "metadata": {
        "id": "pittHv6AxI03"
      },
      "outputs": [],
      "source": [
        "tokenizer = Tokenizer()"
      ]
    },
    {
      "cell_type": "code",
      "execution_count": 23,
      "metadata": {
        "id": "qq9aUJ6WpWKG"
      },
      "outputs": [],
      "source": [
        "X_train_tokenized=x_train.apply(tokenizer.tokenize)"
      ]
    },
    {
      "cell_type": "code",
      "execution_count": 24,
      "metadata": {
        "colab": {
          "base_uri": "https://localhost:8080/"
        },
        "id": "YN7S2vNWpfPr",
        "outputId": "c63a5805-8323-4063-db63-0074086a5e95"
      },
      "outputs": [
        {
          "data": {
            "text/plain": [
              "6     [sekretaris, jenderal, sekjen, pdip, hasto, kr...\n",
              "27    [capres, koalisi, indonesia, maju, prabowo, su...\n",
              "12    [taylor, swift, resmi, leg, internasional, the...\n",
              "17    [usai, jabar, anies, raja, jakarta, smallest, ...\n",
              "9     [bagas, fikri, petik, ajar, harga, laga, final...\n",
              "15    [lembaga, survei, riset, peta, elektabilitas, ...\n",
              "33    [madrid, gagal, puncak, klasemen, liga, spanyo...\n",
              "16    [rekor, rekor, pecah, andy, cryer, sport, okto...\n",
              "36    [manchester, city, lawan, bournemouth, lanjut,...\n",
              "35    [untung, buntung, sumber, gambar, foto, terang...\n",
              "0     [amorim, hubung, mu, loading, ruben, amorim, k...\n",
              "24    [sarang, muncul, kabar, kejut, umum, cerai, su...\n",
              "5     [ketua, pssi, erick, thohir, proses, naturalis...\n",
              "11    [indonesia, isu, politik, dinasti, asia, tengg...\n",
              "40    [persija, jakarta, putus, tren, negatif, menan...\n",
              "1     [mahkamah, konstitusi, uji, atur, syarat, usia...\n",
              "31    [bioskop, tv, malam, jumat, tayang, bastille, ...\n",
              "21    [salah, partai, usung, pasang, anies, cak, imi...\n",
              "2     [indonesia, accurate, research, and, consultin...\n",
              "32    [teka, teki, calon, wakil, presiden, cawapres,...\n",
              "41    [agnez, mo, hibur, tanah, air, kiblat, interna...\n",
              "3     [studio, asosiasi, amptp, tawar, tawar, serika...\n",
              "37    [tayang, perdana, festival, film, internasiona...\n",
              "23    [iskandar, cak, imin, janji, pilih, wapres, pi...\n",
              "34    [blackpink, umum, jisoo, pacar, guncang, indus...\n",
              "10    [adrian, serius, pelotot, kibornya, iring, sor...\n",
              "22    [enrique, saran, kylian, mbappe, raih, harga, ...\n",
              "18    [manchester, united, gagal, tahan, gelar, cara...\n",
              "20    [latih, timnas, inggris, u, ryan, garry, pangg...\n",
              "7     [the, beatles, rilis, lagu, tunda, puluh, sumb...\n",
              "14    [pilih, tunjuk, musik, skala, ramai, pekan, no...\n",
              "28    [nicolas, cage, bahas, tampil, kameo, superman...\n",
              "38    [raksasa, laliga, real, madrid, nampaknya, kep...\n",
              "Name: clean_text, dtype: object"
            ]
          },
          "execution_count": 24,
          "metadata": {},
          "output_type": "execute_result"
        }
      ],
      "source": [
        "X_train_tokenized"
      ]
    },
    {
      "cell_type": "code",
      "execution_count": 25,
      "metadata": {
        "id": "peM_okP15Hpc"
      },
      "outputs": [],
      "source": [
        "X_test=x_test.apply(tokenizer.tokenize)"
      ]
    },
    {
      "cell_type": "markdown",
      "metadata": {
        "id": "a-Y47onS0uvE"
      },
      "source": [
        "# **Text representation**"
      ]
    },
    {
      "cell_type": "code",
      "execution_count": 26,
      "metadata": {
        "id": "65xD4Uq80uEF"
      },
      "outputs": [],
      "source": [
        "import gensim\n",
        "from gensim.models import Word2Vec"
      ]
    },
    {
      "cell_type": "markdown",
      "metadata": {
        "id": "8d7hqVufQtJ9"
      },
      "source": [
        "Pada text represention ini saya menggunakan dua metode yaitu Word2Vec - Skipgram dan juga FastText. Untuk alasan dan penjelasanya akan dibahas setiap bagian Skipgram maupun FastText."
      ]
    },
    {
      "cell_type": "code",
      "execution_count": 27,
      "metadata": {
        "id": "7n8gonvI2wmJ"
      },
      "outputs": [],
      "source": [
        "def vectorize_data_skipgram(data, model):\n",
        "    vectorized_data = []\n",
        "    for sentence in data:\n",
        "        vec = np.zeros(model.vector_size)\n",
        "        count = 0\n",
        "        for word in sentence:\n",
        "            if word in model.wv.key_to_index:\n",
        "                vec += model.wv.get_vector(word)\n",
        "                count += 1\n",
        "        if count != 0:\n",
        "            vec /= count\n",
        "        vectorized_data.append(vec)\n",
        "    return np.array(vectorized_data)"
      ]
    },
    {
      "cell_type": "code",
      "execution_count": 28,
      "metadata": {
        "id": "tnP_oK9Skblc"
      },
      "outputs": [],
      "source": [
        "def vectorize_data_fasttext(data, model):\n",
        "    vectorized_data = []\n",
        "    for sentence in data:\n",
        "        vec = np.zeros(model.vector_size)\n",
        "        count = 0\n",
        "        for word in sentence:\n",
        "            if word in model.wv.key_to_index:\n",
        "                vec += model.wv.get_vector(word, norm=True) #Untuk FastText menggunakan hasil yang telah dinormalisasi\n",
        "                count += 1\n",
        "        if count != 0:\n",
        "            vec /= count\n",
        "        vectorized_data.append(vec)\n",
        "    return np.array(vectorized_data)"
      ]
    },
    {
      "cell_type": "markdown",
      "metadata": {
        "id": "jpApf67KNGT1"
      },
      "source": [
        "Kode ini berfungsi untuk mengubah data menjadi vektor\n",
        "\n",
        "Untuk setiap kalimat dalam data, fungsi ini melakukan hal berikut:\n",
        "* Membuat vektor nol dengan ukuran sama dengan model.vector_size.\n",
        "* Menghitung jumlah kata dalam kalimat yang ada dalam vocabulari model.\n",
        "* Untuk setiap kata dalam kalimat, jika kata tersebut ada dalam vocabulari model, fungsi ini menambahkan vektor kata tersebut ke vektor kalimat dan menambahkan satu ke penghitung kata.\n",
        "* Setelah mengiterasi semua kata dalam kalimat, jika count tidak sama dengan 0, maka vec dibagi dengan count dan menghasilkan vektor rata-rata kalimat\n",
        "* Vektor rata-rata kalimat ini kemudian ditambahkan ke vectorized_data."
      ]
    },
    {
      "cell_type": "markdown",
      "metadata": {
        "id": "vW-ef96x1caR"
      },
      "source": [
        "#### **Skipgram**"
      ]
    },
    {
      "cell_type": "markdown",
      "metadata": {
        "id": "tF_aUGQASclf"
      },
      "source": [
        "*Skipgram* merupakan pendekatan Word2Vec yang base modelnya adalah ***MLP*** dengan one *hidden layer* dengan fungsi activasinya (input) linear dan softmax (output). Disini Saya memilih menggunakan *Skipgram* karena arsitektur dari *Skipgram* sendiri sesuai dengan permintaan soal dimana Vektor yang dihasilkan harus berdasarkan hasil training dengan input kata dan target output conteks\n"
      ]
    },
    {
      "cell_type": "markdown",
      "metadata": {
        "id": "LyFDZ-n-TQ1C"
      },
      "source": [
        "Pada gambar arsitektur Skipgram dibawah ini bisa kita lihat bahwa:\n",
        "\n",
        "*   Input layernya berupa kata (word) dan merepresentasikan jumlah vocabulary-nya.\n",
        "*   Memiliki satu hidden layer yang jumlah neuronya akan merepresentasikan jumlah vektor dan dimensi yang kita miliki\n",
        "*   Output layernya sendiri berupa context\n",
        "* Hasil vektor berdasarkan hasil training dengan input kata dan target output konteks"
      ]
    },
    {
      "cell_type": "markdown",
      "metadata": {
        "id": "hiZFvl15Swg3"
      },
      "source": [
        "![The-illustration-of-the-Skip-Gram-architecture-of-the-Word2Vec-algorithm-For-a.png](data:image/png;base64,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)"
      ]
    },
    {
      "cell_type": "markdown",
      "metadata": {
        "id": "M4gweNttVyVV"
      },
      "source": [
        "Oleh karena itu alasan saya menggunakan teknik Skipgram diantaranya adalah:\n",
        "\n",
        "*   Hasil vektor berdasarkan hasil training dengan input kata dan target output konteks\n",
        "\n",
        "> Teknik skipgram sendiri adalah teknik *text representation* yang menggunakan pendekatan supervised learning. Dalam pendekatan ini, model dilatih untuk memprediksi konteks dari sebuah kata. Context adalah kata-kata yang muncul di sekitar kata tersebut. Misalnya, kata `kucing` sering muncul di konteks `meong`, `ikan`, dan `bulu`.\n",
        "\n",
        "> Dengan pendekatan ini, model akan belajar untuk mengonversi kata-kata menjadi vektor yang memiliki makna dan hubungan antara kata-kata tersebut. Vektor ini dapat digunakan untuk klasifikasi topik berita.\n",
        "\n",
        "*   Dapat diatur size vektor menjadi 50\n",
        "\n",
        "> Size vektor adalah jumlah dimensi dari vektor representasi kata. Vektor dengan size yang lebih besar dapat menampung lebih banyak informasi tentang kata tersebut.\n",
        "\n",
        "*   Frequency kata yang diperhitungkan minimal 3\n",
        "\n",
        "> Frequency kata adalah jumlah kemunculan kata tersebut dalam dataset. Kata-kata yang sering muncul memiliki makna yang lebih jelas dan lebih mudah dipelajari oleh model.\n",
        "\n",
        "> Dalam kasus ini, frequency kata yang diperhitungkan minimal 3. Hal ini untuk menghindari kata-kata yang jarang digunakan dan tidak memiliki makna yang jelas.\n",
        "\n",
        "Secara keseluruhan, teknik skipgram dengan size vektor 50 dan frequency kata minimal 3 merupakan teknik *text representation* yang tepat untuk digunakan dalam kasus ini. Teknik ini dapat menghasilkan representasi vektor yang sesuai dengan permintaan soal."
      ]
    },
    {
      "cell_type": "code",
      "execution_count": 29,
      "metadata": {
        "id": "C07_-_aF1hyy"
      },
      "outputs": [],
      "source": [
        "model_skipgram = gensim.models.Word2Vec(X_train_tokenized, min_count = 3,vector_size = 50, window = 5, sg=1)"
      ]
    },
    {
      "cell_type": "markdown",
      "metadata": {
        "id": "nRzY3q9ZbFF3"
      },
      "source": [
        "Disini saya mengatur penyesuaian terhadap model Skipgram dimana pada permintaan soal bahwa model harus memiliki size vektor adalah 50, dan frequency kata yang diperhitungkan minimal 3. Oleh karena itu saya merubah `min_count = 3` yang menandakan frekuensi minimal kemunculan kata, `vector_size = 50` yang merupakan jumlah size vector yang nanti akan dihasilkan, `sg=1` yang menandakan bahwa model Word2Vec yang digunakan adalah Skipgram, serta mengatur jumlah  `window = 5` yang set kata yang akan diambil, karena dokumen yang cukup panjang dalam satu kalimat atau sample data maka windows size yang saya gunakan adalah 5.\n",
        "\n"
      ]
    },
    {
      "cell_type": "code",
      "execution_count": 30,
      "metadata": {
        "colab": {
          "base_uri": "https://localhost:8080/"
        },
        "id": "uYIL3Zxn1klZ",
        "outputId": "ba791388-d812-4880-af70-bfab6ae9e781"
      },
      "outputs": [
        {
          "name": "stdout",
          "output_type": "stream",
          "text": [
            "{'prabowo': 0, 'gibran': 1, 'indonesia': 2, 'pilih': 3, 'menang': 4, 'anies': 5, 'the': 6, 'gambar': 7, 'lagu': 8, 'jakarta': 9, 'film': 10, 'suara': 11, 'presiden': 12, 'putus': 13, 'ganjar': 14, 'gol': 15, 'politik': 16, 'ketua': 17, 'jokowi': 18, 'main': 19, 'liga': 20, 'cawapres': 21, 'tim': 22, 'cak': 23, 'imin': 24, 'messi': 25, 'survei': 26, 'musik': 27, 'jawa': 28, 'partai': 29, 'sumber': 30, 'hasil': 31, 'video': 32, 'mk': 33, 'calon': 34, 'terang': 35, 'dukung': 36, 'rekam': 37, 'masuk': 38, 'milik': 39, 'tampil': 40, 'jalan': 41, 'pasang': 42, 'baca': 43, 'musim': 44, 'orang': 45, 'nama': 46, 'beatles': 47, 'proses': 48, 'hubner': 49, 'subianto': 50, 'tanding': 51, 'wakil': 52, 'usia': 53, 'ballon': 54, 'rakabuming': 55, 'salah': 56, 'aku': 57, 'capres': 58, 'pilpres': 59, 'dunia': 60, 'd': 61, 'oktober': 62, 'or': 63, 'raka': 64, 'bawa': 65, 'maju': 66, 'temu': 67, 'muda': 68, 'sosok': 69, 'kali': 70, 'sebut': 71, 'and': 72, 'timnas': 73, 'ubah': 74, 'persija': 75, 'kla': 76, 'project': 77, 'perkara': 78, 'cetak': 79, 'hadir': 80, 'umum': 81, 'media': 82, 'laku': 83, 'damping': 84, 'lanjut': 85, 'mbappe': 86, 'madrid': 87, 'daftar': 88, 'kpu': 89, 'november': 90, 'pdip': 91, 'hubung': 92, 'uji': 93, 'anwar': 94, 'eventori': 95, 'libat': 96, 'tani': 97, 'konser': 98, 'city': 99, 'kerja': 100, 'banding': 101, 'rilis': 102, 'baswedan': 103, 'industri': 104, 'anggota': 105, 'amin': 106, 'unggul': 107, 'muhaimin': 108, 'real': 109, 'pekan': 110, 'rabu': 111, 'laga': 112, 'nilai': 113, 'sepakat': 114, 'gelar': 115, 'palestina': 116, 'rekor': 117, 'raih': 118, 'harap': 119, 'tinggal': 120, 'majelis': 121, 'bintang': 122, 'budi': 123, 'usaha': 124, 'jumat': 125, 'piala': 126, 'klub': 127, 'inggris': 128, 'hibur': 129, 'then': 130, 'now': 131, 'man': 132, 'kuat': 133, 'tulis': 134, 'dinasti': 135, 'capai': 136, 'pekerti': 137, 'grup': 138, 'nasional': 139, 'rakyat': 140, 'posisi': 141, 'acara': 142, 'deklarasi': 143, 'menteri': 144, 'ya': 145, 'barat': 146, 'jatim': 147, 'manchester': 148, 'nomor': 149, 'dengar': 150, 'psm': 151, 'syarat': 152, 'foto': 153, 'malam': 154, 'muncul': 155, 'sosial': 156, 'kuasa': 157, 'juta': 158, 'kamis': 159, 'kait': 160, 'selasa': 161, 'koalisi': 162, 'ungkap': 163, 'pimpin': 164, 'program': 165, 'usman': 166, 'pop': 167, 'gemar': 168, 'gambas': 169, 'serikat': 170, 'agnez': 171, 'konstitusi': 172, 'sisi': 173, 'of': 174, 'united': 175, 'hormat': 176, 'tonton': 177, 'saudara': 178, 'komentar': 179, 'lennon': 180, 'adi': 181, 'sidang': 182, 'kota': 183, 'ikut': 184, 'negara': 185, 'raya': 186, 'u': 187, 'ambil': 188, 'ekonomi': 189, 'lahir': 190, 'kiri': 191, 'mo': 192, 'tanggap': 193, 'lsi': 194, 'k': 195, 'jisoo': 196, 'efek': 197, 'katon': 198, 'menit': 199, 'justin': 200, 'persen': 201, 'mas': 202, 'internasional': 203, 'kalah': 204, 'lawan': 205, 'buka': 206, 'wib': 207, 'sutradara': 208, 'lapor': 209, 'elektabilitas': 210, 'mahkamah': 211, 'anak': 212, 'amorim': 213, 'tunjuk': 214, 'alam': 215, 'pranowo': 216, 'studio': 217, 'day': 218, 'delapan': 219, 'tambah': 220, 'gagal': 221, 'pengaruh': 222, 'kompetisi': 223, 'guardian': 224, 'klasemen': 225, 'jabat': 226, 'asal': 227, 'atas': 228, 'buat': 229, 'kenal': 230, 'harga': 231, 'langkah': 232, 'satu': 233, 'pulang': 234, 'cerita': 235, 'instagram': 236, 'putra': 237, 'kembang': 238, 'cerai': 239, 'ajar': 240, 'tunggu': 241, 'bagas': 242, 'tanda': 243, 'erick': 244, 'yogyakarta': 245, 'akses': 246, 'usung': 247, 'janji': 248, 'disney': 249, 'hakim': 250, 'puncak': 251, 'konflik': 252, 'mantan': 253, 'haaland': 254, 'solo': 255, 'hasto': 256, 'keluarga': 257, 'investigasi': 258, 'selatan': 259, 'latih': 260, 'skor': 261, 'hati': 262, 'premier': 263, 'singgung': 264, 'tayang': 265, 'periksa': 266, 'terima': 267, 'podcast': 268, 'belanda': 269, 'adopsi': 270, 'vs': 271, 'dapat': 272, 'witan': 273, 'laba': 274, 'pegang': 275, 'beda': 276, 'fikri': 277, 'masyarakat': 278, 'serang': 279, 'hidup': 280, 'ganti': 281, 'bola': 282, 'tenda': 283, 'bioskop': 284, 'mohon': 285, 'anggap': 286, 'milu': 287, 'tahan': 288, 'golkar': 289, 'syuting': 290, 'aktor': 291, 'berkat': 292, 'selesai': 293, 'sarang': 294, 'jam': 295, 'sukses': 296, 'lengkap': 297, 'pesan': 298, 'bacapres': 299, 'atletico': 300, 'blackpink': 301, 'tengah': 302, 'kantong': 303, 'september': 304, 'coba': 305, 'tutup': 306, 'entertainment': 307, 'responden': 308, 'publik': 309, 'iskandar': 310, 'bagi': 311, 'stadion': 312, 'wilayah': 313, 'cipta': 314, 'ayah': 315, 'materi': 316, 'lepas': 317, 'festival': 318, 'resmi': 319, 'bentuk': 320, 'lokasi': 321, 'pkb': 322, 'barcelona': 323, 'thohir': 324, 'bangsa': 325, 'tolak': 326, 'buah': 327, 'sabtu': 328, 'catat': 329, 'cari': 330, 'antarafoto': 331, 'kayak': 332, 'islam': 333, 'rumah': 334, 'pks': 335, 'juara': 336, 'hadap': 337, 'negatif': 338, 'enrique': 339, 'angkat': 340, 'champions': 341, 'pribadi': 342, 'minggu': 343, 'iring': 344, 'provinsi': 345, 'aftra': 346, 'nyanyi': 347, 'putri': 348, 'sempat': 349, 'karya': 350, 'mudah': 351, 'princess': 352, 'lembaga': 353, 'sulaeman': 354, 'roag': 355, 'gawang': 356, 'perdana': 357, 'pulau': 358, 'kanan': 359, 'alih': 360, 'makassar': 361, 'sag': 362, 'league': 363, 'nicolas': 364, 'cage': 365, 'bilang': 366, 'mason': 367, 'bantu': 368, 'raksasa': 369, 'kejut': 370, 'lewat': 371, 'ali': 372, 'kandidat': 373, 'arci': 374, 'percaya': 375, 'undang': 376, 'tingkat': 377, 'sepak': 378, 'bastille': 379, 'margin': 380, 'la': 381, 'karier': 382, 'warga': 383, 'komisi': 384, 'basis': 385, 'tawar': 386, 'teknologi': 387, 'suka': 388, 'indikator': 389, 'turnamen': 390, 'naturalisasi': 391, 'ai': 392, 'pecah': 393, 'berita': 394, 'peran': 395, 'air': 396, 'akademi': 397, 'images': 398, 'mccartney': 399, 'bicara': 400, 'kontrak': 401, 'seo': 402, 'positif': 403, 'pandang': 404, 'kaset': 405, 'serah': 406, 'kantor': 407, 'musisi': 408, 'episode': 409, 'gabung': 410, 'potensi': 411, 'skandal': 412, 'album': 413, 'adegan': 414, 'bisnis': 415, 'john': 416, 'untung': 417, 'ronaldo': 418, 'aktif': 419, 'turut': 420, 'simalakama': 421, 'putar': 422, 'jadi': 423, 'pete': 424, 'debut': 425, 'langka': 426, 'hukum': 427, 'best': 428, 'tiga': 429, 'duduk': 430, 'luis': 431, 'joko': 432, 'widodo': 433, 'jackson': 434, 'lionel': 435, 'perancis': 436, 'peter': 437, 'gelora': 438, 'pidato': 439, 'bagus': 440, 'paul': 441, 'tum': 442, 'poin': 443, 'kutip': 444, 'markas': 445, 'jabar': 446, 'tajuk': 447, 'timur': 448, 'dki': 449, 'informasi': 450, 'rencana': 451, 'atur': 452, 'jajar': 453, 'sorot': 454, 'enam': 455, 'mogok': 456, 'tanah': 457, 'dasar': 458, 'toreh': 459, 'prani': 460, 'vokal': 461, 'hilang': 462, 'petik': 463, 'peluang': 464, 'scbd': 465, 'kiblat': 466, 'tas': 467, 'arya': 468, 'desa': 469, 'senayan': 470, 'organisasi': 471, 'argentina': 472, 'saksi': 473, 'diri': 474, 'briar': 475, 'take': 476, 'kunjung': 477, 'pbb': 478, 'upaya': 479, 'venue': 480, 'etik': 481, 'bukti': 482, 'tuju': 483, 'mahasiswa': 484, 'xxi': 485, 'penuh': 486, 'judul': 487, 'agustus': 488, 'lilo': 489, 'kode': 490, 'tangan': 491, 'pangan': 492, 'timbang': 493, 'turun': 494, 'daerah': 495, 'kampung': 496, 'warna': 497, 'pakai': 498, 'tenang': 499, 'devi': 500, 'erik': 501, 'tv': 502, 'selamat': 503, 'korea': 504, 'pusat': 505, 'inti': 506, 'spanyol': 507, 'proyek': 508, 'palmas': 509, 'utama': 510, 'las': 511, 'maret': 512, 'amerika': 513, 'putih': 514, 'an': 515, 'nikah': 516, 'cek': 517, 'jarak': 518, 'angka': 519, 'direktur': 520, 'los': 521, 'tujuh': 522, 'error': 523, 'sikap': 524, 'tokoh': 525, 'final': 526, 'beliau': 527, 'news': 528, 'nyata': 529, 'dominasi': 530, 'khusus': 531, 'wawancara': 532, 'banten': 533, 'keluar': 534, 'pramono': 535, 'rasa': 536, 'alas': 537, 'jateng': 538, 'baru': 539, 'merah': 540, 'fakta': 541, 'ilmu': 542, 'sulit': 543, 'juang': 544, 'baik': 545, 'kepa': 546, 'sibak': 547, 'adil': 548, 'rangkai': 549, 'tahun': 550, 'gugat': 551, 'tuntas': 552, 'hwan': 553, 'jeong': 554, 'lee': 555, 'talenta': 556, 'situasi': 557, 'hag': 558, 'ten': 559, 'amptp': 560, 'ingat': 561, 'habis': 562, 'produksi': 563, 'strategi': 564, 'isu': 565, 'langgar': 566, 'sadar': 567, 'latar': 568, 'teliti': 569, 'djayadi': 570, 'ipar': 571, 'beasiswa': 572, 'jajak': 573, 'mahfud': 574, 'gagas': 575, 'yakin': 576, 'perintah': 577, 'pikir': 578, 'buruk': 579, 'tolong': 580, 'babak': 581, 'rekan': 582, 'apresiasi': 583, 'komposisi': 584, 'puu': 585, 'jimly': 586, 'bunyi': 587, 'tarik': 588, 'isi': 589, 'mansaray': 590, 'victor': 591, 'tahar': 592, 'safrudin': 593, 'kapten': 594, 'ryo': 595, 'ahmad': 596, 'syaikhu': 597, 'ancam': 598, 'tabir': 599, 'puluh': 600, 'muhadjir': 601, 'asia': 602, 'tahap': 603, 'baihaki': 604, 'wni': 605, 'wolves': 606, 'idola': 607, 'faktor': 608, 'krisis': 609, 'tarung': 610, 'rapat': 611, 'penting': 612, 'ringo': 613, 'dekat': 614, 'starr': 615, 'durasi': 616, 'park': 617, 'keras': 618, 'band': 619, 'arena': 620, 'kim': 621, 'gitar': 622, 'kredit': 623, 'performa': 624, 'music': 625, 'sehat': 626, 'sesi': 627, 'kylian': 628, 'new': 629, 'dampak': 630, 'prediksi': 631, 'southampton': 632, 'tuduh': 633, 'lolos': 634, 'ilegal': 635, 'harrison': 636, 'populer': 637, 'george': 638, 'ameyaw': 639, 'amo': 640, 'duga': 641, 'superman': 642, 'universitas': 643, 'besar': 644, 'kepala': 645, 'field': 646, 'semesta': 647, 'kolaborasi': 648, 'jazilul': 649, 'rekrut': 650, 'pokok': 651, 'nasdem': 652, 'baja': 653, 'asli': 654, 'sudirman': 655, 'chemistry': 656, 'ukhuwah': 657, 'signifikan': 658, 'area': 659, 'jenderal': 660, 'tindak': 661, 'panggil': 662, 'sekjen': 663, 'el': 664, 'gubernur': 665, 'zoe': 666, 'ponsel': 667, 'bertrand': 668, 'pitchfork': 669, 'pasuk': 670, 'produser': 671, 'megawati': 672, 'a': 673, 'concert': 674, 'one': 675, 'doa': 676, 'bahasa': 677, 'kompleks': 678, 'perangkat': 679, 'lantar': 680, 'martin': 681, 'mardani': 682, 'bu': 683, 'din': 684, 'panggung': 685, 'bullying': 686, 'bayang': 687, 'romantis': 688, 'agens': 689, 'ruang': 690, 'dialog': 691, 'papan': 692, 'akun': 693, 'hyun': 694, 'manusia': 695, 'kaesang': 696, 'daya': 697, 'bo': 698, 'imbuh': 699, 'kiai': 700, 'konsisten': 701, 'israel': 702, 'vokalis': 703, 'tumpul': 704, 'pasar': 705, 'kondisi': 706, 'tepat': 707, 'cahaya': 708, 'ragam': 709, 'simak': 710, 'henti': 711, 'psg': 712, 'sampling': 713, 'trofi': 714, 'individu': 715, 'random': 716, 'metode': 717, 'lebar': 718, 'co': 719, 'founder': 720, 'wujud': 721, 'format': 722, 'universe': 723, 'indoor': 724, 'sinergi': 725, 'selenggara': 726, 'belantika': 727, 'inspirasi': 728, 'dekade': 729, 'tegar': 730, 'tumbuh': 731, 'hijau': 732, 'emas': 733, 'polemik': 734, 'burton': 735, 'hasyim': 736, 'biru': 737, 'kena': 738, 'makna': 739, 'damai': 740, 'iswahyudi': 741, 'tentu': 742, 'agama': 743, 'agus': 744, 'kartu': 745, 'pepa': 746, 'gitu': 747, 'tatap': 748, 'gerindra': 749, 'juli': 750, 'telepon': 751, 'perempuan': 752, 'firman': 753, 'toleransi': 754, 'kelompok': 755, 'periode': 756, 'ramai': 757, 'geser': 758, 'milenial': 759, 'unusia': 760, 'loyal': 761, 'gelandang': 762, 'prancis': 763, 'benzema': 764, 'desember': 765, 'erling': 766, 'senin': 767, 'pasal': 768, 'top': 769, 'paris': 770, 'gemilang': 771, 'susul': 772, 'jarang': 773, 'bournemouth': 774, 'mikro': 775, 'jalur': 776, 'tuai': 777, 'brighton': 778, 'sayang': 779, 'kandang': 780, 'sapa': 781, 'kumpul': 782, 'bursa': 783, 'matang': 784, 'sentimen': 785, 'chelsea': 786, 'amat': 787, 'eksekutif': 788, 'apik': 789, 'dok': 790, 'tren': 791, 'sih': 792, 'bek': 793, 'batal': 794, 'bela': 795, 'pantau': 796, 'agen': 797, 'ferdinand': 798, 'rudolf': 799, 'it': 800, 'ajang': 801, 'bijak': 802, 'sebar': 803, 'habibie': 804, 'aisah': 805, 'parepare': 806, 'sulawesi': 807, 'matsumura': 808, 'raja': 809, 'usai': 810, 'belah': 811, 'thomas': 812, 'kiper': 813, 'reza': 814, 'jaga': 815, 'dahulu': 816, 'brahma': 817, 'darah': 818, 'sisa': 819, 'ulang': 820, 'istimewa': 821, 'budiarti': 822, 'brin': 823, 'puput': 824, 'lemah': 825, 'kurang': 826, 'karakter': 827, 'rasional': 828, 'rentang': 829, 'dpp': 830, 'mesti': 831, 'juru': 832, 'mu': 833, 'rumor': 834, 'beber': 835, 'butuh': 836, 'muhammad': 837, 'tekan': 838, 'ganda': 839, 'kabar': 840, 'loading': 841, 'eropa': 842, 'kabul': 843, 'mata': 844, 'rata': 845, 'dominan': 846, 'sekretaris': 847}\n"
          ]
        }
      ],
      "source": [
        "vocabulary_skipgram = model_skipgram.wv.key_to_index\n",
        "print(vocabulary_skipgram)"
      ]
    },
    {
      "cell_type": "code",
      "execution_count": 31,
      "metadata": {
        "id": "VX2Jbr0y1oYB"
      },
      "outputs": [],
      "source": [
        "x_train_skip = vectorize_data_skipgram(X_train_tokenized, model_skipgram)"
      ]
    },
    {
      "cell_type": "code",
      "execution_count": 32,
      "metadata": {
        "colab": {
          "base_uri": "https://localhost:8080/"
        },
        "id": "GpykzAJRBm2l",
        "outputId": "bc4db09f-a0cb-409e-fc33-db1cecb87872"
      },
      "outputs": [
        {
          "data": {
            "text/plain": [
              "array([ 1.63588374e-01, -7.35266654e-02,  1.24360199e-01,  4.21034526e-02,\n",
              "       -1.11679470e-01, -1.27136243e-01,  1.77058394e-01,  8.21034401e-02,\n",
              "       -1.97188179e-01, -1.26900959e-01, -3.21195796e-02, -1.09139508e-01,\n",
              "        1.22242822e-01, -5.43392415e-03,  4.72373727e-03,  2.35388319e-01,\n",
              "        1.82603017e-01, -4.29226910e-02, -3.34414026e-01, -3.40782670e-01,\n",
              "        6.12776579e-02,  2.53437259e-01,  1.92538782e-01, -1.88748109e-01,\n",
              "        1.41096984e-01,  4.78704531e-02, -1.76223691e-01, -9.61154096e-02,\n",
              "       -2.73505399e-01,  1.77031759e-01,  8.19019438e-02,  8.16185202e-02,\n",
              "       -1.04650496e-01,  9.92730953e-02, -2.81667729e-01,  1.97821361e-01,\n",
              "        7.56221780e-03, -8.64244949e-02, -4.44444639e-02, -1.61461078e-01,\n",
              "        2.48136949e-01, -5.70118984e-02, -6.95915186e-02,  4.09120245e-04,\n",
              "        4.93064198e-01,  3.66893510e-02, -1.52251810e-01, -6.58023632e-02,\n",
              "        1.49749849e-01, -4.89016966e-03])"
            ]
          },
          "execution_count": 32,
          "metadata": {},
          "output_type": "execute_result"
        }
      ],
      "source": [
        "x_train_skip[0]"
      ]
    },
    {
      "cell_type": "markdown",
      "metadata": {
        "id": "NdIWtnlj3Ak0"
      },
      "source": [
        "#### **Fasttext**"
      ]
    },
    {
      "cell_type": "markdown",
      "metadata": {
        "id": "3AGUy5TAdEHw"
      },
      "source": [
        "Metode berikutnya yang saya gunakan adalah dengan menggunakakan pendekatan FastText, secara umum FastText mirip dengan Skip-gram karena sama-sama memiliki input berupa kata dan output berupa context.\n",
        "\n",
        "Namun, yang membedakan FastText dengan Skipgram adalah cara metode ini memandang kata, sebagai contoh adalah kata “Intelligence”. Daripada memandangnya sebagai satu entitas tunggal, FastText akan memecahnya menjadi beberapa n-gram. Misalnya, jika kita memilih untuk menggunakan trigram (n=3), `Intelligence` akan menjadi: `int`, `nte`, `tel`, `ell`, `lli`, `lig`, `ige`, `gen`, `enc`, `nce`. Setiap n-gram ini akan memiliki representasi vektor sendiri, dan representasi vektor untuk `Intelligence` akan menjadi rata-rata dari semua vektor n-gram ini.\n",
        "\n",
        "Dengan metode ini, FastText dapat menghasilkan representasi yang masuk akal bahkan untuk kata-kata yang tidak pernah dilihat sebelumnya\n",
        "\n",
        "\n",
        "---\n",
        "\n",
        "\n",
        "Metode ini saya pilih karena sesuai dengan perminataan soal, yaitu:\n",
        "\n",
        "\n",
        "*   Hasil vektor berdasarkan hasil training dengan input kata dan target output konteks.\n",
        "\n",
        "> Metode FastText secara umum mirip dengan metode skip-gram untuk menghasilkan vektor. FastText melatih model untuk memprediksi konteks dari suatu kata.\n",
        "\n",
        "*   Dapat diatur untuk size vektor\n",
        "\n",
        "> Sama dengan metode Word2Vec lainya dimana pada metode FastText size vektor nya dapat disesuaikan, size vector sendiri adalah jumlah dimensi yang digunakan untuk mewakili suatu kata..\n",
        "\n",
        "*   Dapat diatur untuk frequency kata yang diperhitungkan\n",
        "\n",
        "> Frequency kata adalah jumlah kemunculan suatu kata dalam data. Kata-kata dengan frequency tinggi cenderung lebih penting dan dapat mewakili makna kalimat dengan lebih baik serta dapat mengurangi noise pada data.\n"
      ]
    },
    {
      "cell_type": "code",
      "execution_count": 33,
      "metadata": {
        "id": "5ir9nZf_3Kl5"
      },
      "outputs": [],
      "source": [
        "meta_hyper = {\n",
        "    \"vector_size\": 50,\n",
        "    \"alpha\": 0.05,\n",
        "    \"window\": 5,\n",
        "    \"min_freq\" : 3,\n",
        "    \"epochs\": 25,\n",
        "    \"data_size\": len(X_train_tokenized),\n",
        "    \"tokens_number\": len([td for td in X_train_tokenized]),\n",
        "    \"CPU\": 8\n",
        "}"
      ]
    },
    {
      "cell_type": "markdown",
      "metadata": {
        "id": "jSE7vKBRour4"
      },
      "source": [
        "Pada model FastText ini, saya telah melakukan percobaan tuning untuk mendapatkan representasi vektor terbaik, agar ketika vector diberikan kepada model SVM ataupun RandomForest bisa memberikan hasil performa yang baik.\n",
        "\n",
        "Untuk hyperparameter terbaik yang saya dapatkan setelah melakukan beberapa percobaan adalah dengan nilai-nilai berikut:\n",
        "\n",
        "\n",
        "```\n",
        "    \"vector_size\": 50,\n",
        "    \"alpha\": 0.05,\n",
        "    \"window\": 5,\n",
        "    \"min_freq\" : 3,\n",
        "    \"epochs\": 25,\n",
        "    \"data_size\": len(X_train_tokenized),\n",
        "    \"tokens_number\": len([td for td in X_train_tokenized]),\n",
        "    \"CPU\": 8\n",
        "```\n",
        "\n",
        "Dengan menggunakan tuning hyperparameter berikut, didapatkan hasil representasi vector yang dapat dibuktikan pada model Text Classification dibawah."
      ]
    },
    {
      "cell_type": "code",
      "execution_count": 34,
      "metadata": {
        "id": "OFYXkPOO3Mly"
      },
      "outputs": [],
      "source": [
        "from gensim.models import FastText\n",
        "\n",
        "ft_model = FastText(vector_size=meta_hyper['vector_size'],\n",
        "                       window=meta_hyper['window'],\n",
        "                       min_count = meta_hyper['min_freq'],\n",
        "                       alpha= meta_hyper['alpha'],\n",
        "                       workers=meta_hyper['CPU'])\n",
        "\n",
        "ft_model.build_vocab(corpus_iterable=X_train_tokenized)"
      ]
    },
    {
      "cell_type": "code",
      "execution_count": 35,
      "metadata": {
        "colab": {
          "base_uri": "https://localhost:8080/"
        },
        "id": "B5bbJO24ej-T",
        "outputId": "c4030072-a5cc-4058-8fb6-07518b6bcc65"
      },
      "outputs": [
        {
          "data": {
            "text/plain": [
              "(157706, 226725)"
            ]
          },
          "execution_count": 35,
          "metadata": {},
          "output_type": "execute_result"
        }
      ],
      "source": [
        "ft_model.train(X_train_tokenized, total_examples=len(X_train_tokenized), epochs=meta_hyper['epochs'])"
      ]
    },
    {
      "cell_type": "code",
      "execution_count": 36,
      "metadata": {
        "id": "JBs3wIeQsOR6"
      },
      "outputs": [],
      "source": [
        "x_train_ft = vectorize_data_fasttext(X_train_tokenized, ft_model)"
      ]
    },
    {
      "cell_type": "code",
      "execution_count": 37,
      "metadata": {
        "colab": {
          "base_uri": "https://localhost:8080/"
        },
        "id": "TXkvXuDr2OG_",
        "outputId": "43cd808a-cbcf-4ed2-c950-55665b6ebc62"
      },
      "outputs": [
        {
          "data": {
            "text/plain": [
              "array([-0.11011271,  0.11583469,  0.12634055,  0.00812243, -0.26560185,\n",
              "       -0.11107802, -0.03929826,  0.18666652, -0.13162218,  0.03155801,\n",
              "       -0.14152557,  0.12289399,  0.08642117,  0.03064816,  0.03309723,\n",
              "        0.19507354,  0.15931379, -0.22721915,  0.01112115,  0.06630978,\n",
              "        0.20967863,  0.03811918,  0.08423522,  0.08311646, -0.00576803,\n",
              "        0.00312127, -0.06295804,  0.04967115,  0.0489257 ,  0.03087809,\n",
              "       -0.05854954, -0.14002457,  0.07323054,  0.12421562,  0.16005322,\n",
              "       -0.14059352, -0.2295033 ,  0.03763938,  0.11278077, -0.12450756,\n",
              "        0.03384477,  0.16405372,  0.05608555,  0.13913734,  0.07973748,\n",
              "        0.12511709,  0.18683727, -0.00824885,  0.06203336,  0.00932492])"
            ]
          },
          "execution_count": 37,
          "metadata": {},
          "output_type": "execute_result"
        }
      ],
      "source": [
        "x_train_ft[0]"
      ]
    },
    {
      "cell_type": "markdown",
      "metadata": {
        "id": "UMxNJ6G8Xc69"
      },
      "source": [
        "#**Model**"
      ]
    },
    {
      "cell_type": "markdown",
      "metadata": {
        "id": "v84o7K4pCWNn"
      },
      "source": [
        "Model *machine learning* yang digunakan untuk melakukan klasifikasi topik berita adalah dengan menggunakan Support Vector Machine dan Random Forest Classifier yang nantinya akan dibandingkan dengan menggunakan metode *text representation* Skipgram dan FastText."
      ]
    },
    {
      "cell_type": "markdown",
      "metadata": {
        "id": "nTaEqn2x5HtW"
      },
      "source": [
        "## **Support Vector Machine**"
      ]
    },
    {
      "cell_type": "markdown",
      "metadata": {
        "id": "YPDZXD3iCndP"
      },
      "source": [
        "Dalam setiap model Support Vector Machine (SVM) yang saya kembangkan, saya menerapkan metode GridSearch. Metode ini digunakan untuk mencari dan menentukan hyperparameter terbaik yang dapat meningkatkan performa model. GridSearch bekerja dengan sistematis mencoba kombinasi berbagai hyperparameter dan menggunakan cross-validation untuk mengevaluasi performa setiap kombinasi. Dengan demikian, saya dapat memastikan bahwa model SVM yang saya kembangkan telah dioptimalkan dan mampu memberikan hasil terbaik tanpa harus membuat banyak model."
      ]
    },
    {
      "cell_type": "markdown",
      "metadata": {
        "id": "tpY0EXTWkDOb"
      },
      "source": [
        "#### **SVM using Skipgram**"
      ]
    },
    {
      "cell_type": "code",
      "execution_count": 38,
      "metadata": {
        "id": "fcTVUzPphHq-"
      },
      "outputs": [],
      "source": [
        "from sklearn.model_selection import GridSearchCV\n",
        "from sklearn.svm import SVC"
      ]
    },
    {
      "cell_type": "markdown",
      "metadata": {
        "id": "aKIZsprBMXF2"
      },
      "source": [
        "**Testing set diubah menjadi vector terlebih dahulu**"
      ]
    },
    {
      "cell_type": "code",
      "execution_count": 39,
      "metadata": {
        "id": "AGFCNnQrOOdH"
      },
      "outputs": [],
      "source": [
        "x_test_skip = vectorize_data_skipgram(X_test, model_skipgram)"
      ]
    },
    {
      "cell_type": "code",
      "execution_count": 40,
      "metadata": {
        "colab": {
          "base_uri": "https://localhost:8080/",
          "height": 117
        },
        "id": "Bm3C4GRV5MA8",
        "outputId": "8687791b-51a2-496c-b433-fb4e318d4611"
      },
      "outputs": [
        {
          "data": {
            "text/html": [
              "<style>#sk-container-id-1 {color: black;background-color: white;}#sk-container-id-1 pre{padding: 0;}#sk-container-id-1 div.sk-toggleable {background-color: white;}#sk-container-id-1 label.sk-toggleable__label {cursor: pointer;display: block;width: 100%;margin-bottom: 0;padding: 0.3em;box-sizing: border-box;text-align: center;}#sk-container-id-1 label.sk-toggleable__label-arrow:before {content: \"▸\";float: left;margin-right: 0.25em;color: #696969;}#sk-container-id-1 label.sk-toggleable__label-arrow:hover:before {color: black;}#sk-container-id-1 div.sk-estimator:hover label.sk-toggleable__label-arrow:before {color: black;}#sk-container-id-1 div.sk-toggleable__content {max-height: 0;max-width: 0;overflow: hidden;text-align: left;background-color: #f0f8ff;}#sk-container-id-1 div.sk-toggleable__content pre {margin: 0.2em;color: black;border-radius: 0.25em;background-color: #f0f8ff;}#sk-container-id-1 input.sk-toggleable__control:checked~div.sk-toggleable__content {max-height: 200px;max-width: 100%;overflow: auto;}#sk-container-id-1 input.sk-toggleable__control:checked~label.sk-toggleable__label-arrow:before {content: \"▾\";}#sk-container-id-1 div.sk-estimator input.sk-toggleable__control:checked~label.sk-toggleable__label {background-color: #d4ebff;}#sk-container-id-1 div.sk-label input.sk-toggleable__control:checked~label.sk-toggleable__label {background-color: #d4ebff;}#sk-container-id-1 input.sk-hidden--visually {border: 0;clip: rect(1px 1px 1px 1px);clip: rect(1px, 1px, 1px, 1px);height: 1px;margin: -1px;overflow: hidden;padding: 0;position: absolute;width: 1px;}#sk-container-id-1 div.sk-estimator {font-family: monospace;background-color: #f0f8ff;border: 1px dotted black;border-radius: 0.25em;box-sizing: border-box;margin-bottom: 0.5em;}#sk-container-id-1 div.sk-estimator:hover {background-color: #d4ebff;}#sk-container-id-1 div.sk-parallel-item::after {content: \"\";width: 100%;border-bottom: 1px solid gray;flex-grow: 1;}#sk-container-id-1 div.sk-label:hover label.sk-toggleable__label {background-color: #d4ebff;}#sk-container-id-1 div.sk-serial::before {content: \"\";position: absolute;border-left: 1px solid gray;box-sizing: border-box;top: 0;bottom: 0;left: 50%;z-index: 0;}#sk-container-id-1 div.sk-serial {display: flex;flex-direction: column;align-items: center;background-color: white;padding-right: 0.2em;padding-left: 0.2em;position: relative;}#sk-container-id-1 div.sk-item {position: relative;z-index: 1;}#sk-container-id-1 div.sk-parallel {display: flex;align-items: stretch;justify-content: center;background-color: white;position: relative;}#sk-container-id-1 div.sk-item::before, #sk-container-id-1 div.sk-parallel-item::before {content: \"\";position: absolute;border-left: 1px solid gray;box-sizing: border-box;top: 0;bottom: 0;left: 50%;z-index: -1;}#sk-container-id-1 div.sk-parallel-item {display: flex;flex-direction: column;z-index: 1;position: relative;background-color: white;}#sk-container-id-1 div.sk-parallel-item:first-child::after {align-self: flex-end;width: 50%;}#sk-container-id-1 div.sk-parallel-item:last-child::after {align-self: flex-start;width: 50%;}#sk-container-id-1 div.sk-parallel-item:only-child::after {width: 0;}#sk-container-id-1 div.sk-dashed-wrapped {border: 1px dashed gray;margin: 0 0.4em 0.5em 0.4em;box-sizing: border-box;padding-bottom: 0.4em;background-color: white;}#sk-container-id-1 div.sk-label label {font-family: monospace;font-weight: bold;display: inline-block;line-height: 1.2em;}#sk-container-id-1 div.sk-label-container {text-align: center;}#sk-container-id-1 div.sk-container {/* jupyter's `normalize.less` sets `[hidden] { display: none; }` but bootstrap.min.css set `[hidden] { display: none !important; }` so we also need the `!important` here to be able to override the default hidden behavior on the sphinx rendered scikit-learn.org. See: https://github.com/scikit-learn/scikit-learn/issues/21755 */display: inline-block !important;position: relative;}#sk-container-id-1 div.sk-text-repr-fallback {display: none;}</style><div id=\"sk-container-id-1\" class=\"sk-top-container\"><div class=\"sk-text-repr-fallback\"><pre>GridSearchCV(cv=5, estimator=SVC(random_state=42),\n",
              "             param_grid={&#x27;C&#x27;: [0.1, 1, 10, 100, 1000],\n",
              "                         &#x27;gamma&#x27;: [1, 0.1, 0.01, 0.001, 0.0001],\n",
              "                         &#x27;kernel&#x27;: [&#x27;linear&#x27;, &#x27;rbf&#x27;]},\n",
              "             scoring=&#x27;accuracy&#x27;)</pre><b>In a Jupyter environment, please rerun this cell to show the HTML representation or trust the notebook. <br />On GitHub, the HTML representation is unable to render, please try loading this page with nbviewer.org.</b></div><div class=\"sk-container\" hidden><div class=\"sk-item sk-dashed-wrapped\"><div class=\"sk-label-container\"><div class=\"sk-label sk-toggleable\"><input class=\"sk-toggleable__control sk-hidden--visually\" id=\"sk-estimator-id-1\" type=\"checkbox\" ><label for=\"sk-estimator-id-1\" class=\"sk-toggleable__label sk-toggleable__label-arrow\">GridSearchCV</label><div class=\"sk-toggleable__content\"><pre>GridSearchCV(cv=5, estimator=SVC(random_state=42),\n",
              "             param_grid={&#x27;C&#x27;: [0.1, 1, 10, 100, 1000],\n",
              "                         &#x27;gamma&#x27;: [1, 0.1, 0.01, 0.001, 0.0001],\n",
              "                         &#x27;kernel&#x27;: [&#x27;linear&#x27;, &#x27;rbf&#x27;]},\n",
              "             scoring=&#x27;accuracy&#x27;)</pre></div></div></div><div class=\"sk-parallel\"><div class=\"sk-parallel-item\"><div class=\"sk-item\"><div class=\"sk-label-container\"><div class=\"sk-label sk-toggleable\"><input class=\"sk-toggleable__control sk-hidden--visually\" id=\"sk-estimator-id-2\" type=\"checkbox\" ><label for=\"sk-estimator-id-2\" class=\"sk-toggleable__label sk-toggleable__label-arrow\">estimator: SVC</label><div class=\"sk-toggleable__content\"><pre>SVC(random_state=42)</pre></div></div></div><div class=\"sk-serial\"><div class=\"sk-item\"><div class=\"sk-estimator sk-toggleable\"><input class=\"sk-toggleable__control sk-hidden--visually\" id=\"sk-estimator-id-3\" type=\"checkbox\" ><label for=\"sk-estimator-id-3\" class=\"sk-toggleable__label sk-toggleable__label-arrow\">SVC</label><div class=\"sk-toggleable__content\"><pre>SVC(random_state=42)</pre></div></div></div></div></div></div></div></div></div></div>"
            ],
            "text/plain": [
              "GridSearchCV(cv=5, estimator=SVC(random_state=42),\n",
              "             param_grid={'C': [0.1, 1, 10, 100, 1000],\n",
              "                         'gamma': [1, 0.1, 0.01, 0.001, 0.0001],\n",
              "                         'kernel': ['linear', 'rbf']},\n",
              "             scoring='accuracy')"
            ]
          },
          "execution_count": 40,
          "metadata": {},
          "output_type": "execute_result"
        }
      ],
      "source": [
        "param_grid = {\n",
        "    'C': [0.1, 1, 10, 100, 1000],\n",
        "    'kernel': ['linear', 'rbf'],\n",
        "    'gamma': [1, 0.1, 0.01, 0.001, 0.0001]\n",
        "}\n",
        "\n",
        "svm_skip = SVC(random_state=42)\n",
        "svm_skip_cv = GridSearchCV(estimator=svm_skip, param_grid=param_grid, scoring='accuracy', cv=5)\n",
        "svm_skip_cv.fit(x_train_skip, y_train)"
      ]
    },
    {
      "cell_type": "code",
      "execution_count": 41,
      "metadata": {
        "colab": {
          "base_uri": "https://localhost:8080/"
        },
        "id": "Nxy7pkahibjw",
        "outputId": "42fa7bf1-c479-4502-8a98-449083d4ee68"
      },
      "outputs": [
        {
          "name": "stdout",
          "output_type": "stream",
          "text": [
            "{'C': 1000, 'gamma': 1, 'kernel': 'rbf'}\n"
          ]
        }
      ],
      "source": [
        "print(svm_skip_cv.best_params_)"
      ]
    },
    {
      "cell_type": "code",
      "execution_count": 42,
      "metadata": {
        "id": "R6sG5dDnRoDg"
      },
      "outputs": [],
      "source": [
        "test_svm_skip=svm_skip_cv.predict(x_test_skip)"
      ]
    },
    {
      "cell_type": "code",
      "execution_count": 43,
      "metadata": {
        "colab": {
          "base_uri": "https://localhost:8080/"
        },
        "id": "XV6ZBDavRsqw",
        "outputId": "28eef042-b2a6-4487-90e3-e838a568b6ec"
      },
      "outputs": [
        {
          "name": "stdout",
          "output_type": "stream",
          "text": [
            "\n",
            "Classification Report\n",
            "\n",
            "              precision    recall  f1-score   support\n",
            "\n",
            "     Hiburan       1.00      1.00      1.00         3\n",
            "    Olahraga       1.00      0.67      0.80         3\n",
            "     Politik       0.75      1.00      0.86         3\n",
            "\n",
            "    accuracy                           0.89         9\n",
            "   macro avg       0.92      0.89      0.89         9\n",
            "weighted avg       0.92      0.89      0.89         9\n",
            "\n"
          ]
        }
      ],
      "source": [
        "print('\\nClassification Report\\n')\n",
        "print(classification_report(y_test, test_svm_skip))"
      ]
    },
    {
      "cell_type": "markdown",
      "metadata": {
        "id": "LW43CB7PEJnp"
      },
      "source": [
        "Berikut adalah penjelasan dari masing-masing nilai dalam classification report:\n",
        "\n",
        "* **Precision**\n",
        "> * **Hiburan: 1.00** berarti bahwa **100%** dari berita yang diprediksi sebagai Hiburan oleh model benar-benar adalah Hiburan.\n",
        "> * **Olahraga: 1.00** berarti bahwa **100%** dari berita yang diprediksi sebagai Olahraga oleh model benar-benar adalah Olahraga.\n",
        "> * **Politik: 0.75** berarti bahwa **75%** dari berita yang diprediksi sebagai Politik oleh model benar-benar adalah Politik.\n",
        "\n",
        "* **Recall**\n",
        "> * **Hiburan: 1.00** berarti model telah berhasil mengidentifikasi semua berita Hiburan.\n",
        "> * **Olahraga: 0.67** berarti model hanya berhasil mengidentifikasi **67%** dari berita Olahraga.\n",
        "> * Politik: **1.00** berarti model hanya berhasil mengidentifikasi semua dari berita Politik.\n",
        "* **F1-score**\n",
        "```\n",
        "Hiburan: 1.00\n",
        "Olahraga: 0.80\n",
        "Politik: 0.86\n",
        "```\n",
        "> F1-score merupakan kombinasi dari precision dan recall. F1-score yang tinggi menunjukkan bahwa model SVM mampu memprediksi kelas dengan baik, baik dari segi precision maupun recall.\n",
        "* **Macro avg**\n",
        "```\n",
        "Precision: 0.92\n",
        "Recall: 0.89\n",
        "F1-score: 0.89\n",
        "```\n",
        "> Macro avg merupakan rata-rata dari precision, recall, dan f1-score untuk semua kelas. Macro avg yang tinggi menunjukkan bahwa model SVM mampu memprediksi semua kelas dengan baik.\n",
        "\n",
        "* **Weighted avg**\n",
        "```\n",
        "Precision: 0.92\n",
        "Recall: 0.89\n",
        "F1-score: 0.89\n",
        "```\n",
        "> Weighted avg merupakan rata-rata dari precision, recall, dan f1-score untuk semua kelas, dengan bobot yang disesuaikan dengan jumlah data untuk masing-masing kelas. Weighted avg yang tinggi menunjukkan bahwa model SVM mampu memprediksi kelas dengan baik, bahkan untuk kelas dengan jumlah data yang sedikit."
      ]
    },
    {
      "cell_type": "markdown",
      "metadata": {
        "id": "zuN6uHRTC33y"
      },
      "source": [
        "Berdasarkan classification report diatas, model SVM dengan menggunkan metode Skipgram sebagai *text representation* memiliki performa yang baik dalam memprediksi isi topik berita. Hal ini dapat dilihat dari nilai **accuracy** yang mencapai **0.89**. Dalam kasus ini, model SVM mampu memprediksi isi topik berita dengan benar sebanyak **89%** dari total **9** prediksi.\n",
        "\n",
        "Selain itu, dapat dilihat bahwa model SVM memiliki precision, recall, dan f1-score yang tinggi untuk kelas `Hiburan`. Hal ini berarti model SVM dapat dengan akurat memprediksi topik berita `Hiburan`. Namun, pada kelas `Politik` memiliki recall yang terendah yang menunjukan bahwa model SVM kesulitan menemukan semua sampel positif dalam kategori `Politik`.\n",
        "\n",
        "Secara keseluruhan, model SVM menggunakan *text representation* Skipgram dapat memprediksi isi topik berita dengan yang sangat baik, hal ini dapat dilihat dari nilai accuracy, precision, recall, dan f1-score yang tinggi untuk semua kelas."
      ]
    },
    {
      "cell_type": "markdown",
      "metadata": {
        "id": "VaA6bOENjwO5"
      },
      "source": [
        "#### **SVM using FastText**"
      ]
    },
    {
      "cell_type": "markdown",
      "metadata": {
        "id": "mKkiNCxBMrH4"
      },
      "source": [
        "**Testing set diubah menjadi vector terlebih dahulu**"
      ]
    },
    {
      "cell_type": "code",
      "execution_count": 44,
      "metadata": {
        "id": "9DOOxxszt6kt"
      },
      "outputs": [],
      "source": [
        "x_test_ft = vectorize_data_fasttext(X_test, ft_model)"
      ]
    },
    {
      "cell_type": "code",
      "execution_count": 45,
      "metadata": {
        "colab": {
          "base_uri": "https://localhost:8080/",
          "height": 117
        },
        "id": "ChnsSgF7jwO5",
        "outputId": "435bd709-4a6c-42d5-ac4b-e117f2018c6a"
      },
      "outputs": [
        {
          "data": {
            "text/html": [
              "<style>#sk-container-id-2 {color: black;background-color: white;}#sk-container-id-2 pre{padding: 0;}#sk-container-id-2 div.sk-toggleable {background-color: white;}#sk-container-id-2 label.sk-toggleable__label {cursor: pointer;display: block;width: 100%;margin-bottom: 0;padding: 0.3em;box-sizing: border-box;text-align: center;}#sk-container-id-2 label.sk-toggleable__label-arrow:before {content: \"▸\";float: left;margin-right: 0.25em;color: #696969;}#sk-container-id-2 label.sk-toggleable__label-arrow:hover:before {color: black;}#sk-container-id-2 div.sk-estimator:hover label.sk-toggleable__label-arrow:before {color: black;}#sk-container-id-2 div.sk-toggleable__content {max-height: 0;max-width: 0;overflow: hidden;text-align: left;background-color: #f0f8ff;}#sk-container-id-2 div.sk-toggleable__content pre {margin: 0.2em;color: black;border-radius: 0.25em;background-color: #f0f8ff;}#sk-container-id-2 input.sk-toggleable__control:checked~div.sk-toggleable__content {max-height: 200px;max-width: 100%;overflow: auto;}#sk-container-id-2 input.sk-toggleable__control:checked~label.sk-toggleable__label-arrow:before {content: \"▾\";}#sk-container-id-2 div.sk-estimator input.sk-toggleable__control:checked~label.sk-toggleable__label {background-color: #d4ebff;}#sk-container-id-2 div.sk-label input.sk-toggleable__control:checked~label.sk-toggleable__label {background-color: #d4ebff;}#sk-container-id-2 input.sk-hidden--visually {border: 0;clip: rect(1px 1px 1px 1px);clip: rect(1px, 1px, 1px, 1px);height: 1px;margin: -1px;overflow: hidden;padding: 0;position: absolute;width: 1px;}#sk-container-id-2 div.sk-estimator {font-family: monospace;background-color: #f0f8ff;border: 1px dotted black;border-radius: 0.25em;box-sizing: border-box;margin-bottom: 0.5em;}#sk-container-id-2 div.sk-estimator:hover {background-color: #d4ebff;}#sk-container-id-2 div.sk-parallel-item::after {content: \"\";width: 100%;border-bottom: 1px solid gray;flex-grow: 1;}#sk-container-id-2 div.sk-label:hover label.sk-toggleable__label {background-color: #d4ebff;}#sk-container-id-2 div.sk-serial::before {content: \"\";position: absolute;border-left: 1px solid gray;box-sizing: border-box;top: 0;bottom: 0;left: 50%;z-index: 0;}#sk-container-id-2 div.sk-serial {display: flex;flex-direction: column;align-items: center;background-color: white;padding-right: 0.2em;padding-left: 0.2em;position: relative;}#sk-container-id-2 div.sk-item {position: relative;z-index: 1;}#sk-container-id-2 div.sk-parallel {display: flex;align-items: stretch;justify-content: center;background-color: white;position: relative;}#sk-container-id-2 div.sk-item::before, #sk-container-id-2 div.sk-parallel-item::before {content: \"\";position: absolute;border-left: 1px solid gray;box-sizing: border-box;top: 0;bottom: 0;left: 50%;z-index: -1;}#sk-container-id-2 div.sk-parallel-item {display: flex;flex-direction: column;z-index: 1;position: relative;background-color: white;}#sk-container-id-2 div.sk-parallel-item:first-child::after {align-self: flex-end;width: 50%;}#sk-container-id-2 div.sk-parallel-item:last-child::after {align-self: flex-start;width: 50%;}#sk-container-id-2 div.sk-parallel-item:only-child::after {width: 0;}#sk-container-id-2 div.sk-dashed-wrapped {border: 1px dashed gray;margin: 0 0.4em 0.5em 0.4em;box-sizing: border-box;padding-bottom: 0.4em;background-color: white;}#sk-container-id-2 div.sk-label label {font-family: monospace;font-weight: bold;display: inline-block;line-height: 1.2em;}#sk-container-id-2 div.sk-label-container {text-align: center;}#sk-container-id-2 div.sk-container {/* jupyter's `normalize.less` sets `[hidden] { display: none; }` but bootstrap.min.css set `[hidden] { display: none !important; }` so we also need the `!important` here to be able to override the default hidden behavior on the sphinx rendered scikit-learn.org. See: https://github.com/scikit-learn/scikit-learn/issues/21755 */display: inline-block !important;position: relative;}#sk-container-id-2 div.sk-text-repr-fallback {display: none;}</style><div id=\"sk-container-id-2\" class=\"sk-top-container\"><div class=\"sk-text-repr-fallback\"><pre>GridSearchCV(cv=5, estimator=SVC(random_state=42),\n",
              "             param_grid={&#x27;C&#x27;: [0.1, 1, 10, 100, 1000],\n",
              "                         &#x27;gamma&#x27;: [1, 0.1, 0.01, 0.001, 0.0001],\n",
              "                         &#x27;kernel&#x27;: [&#x27;linear&#x27;, &#x27;rbf&#x27;]},\n",
              "             scoring=&#x27;accuracy&#x27;)</pre><b>In a Jupyter environment, please rerun this cell to show the HTML representation or trust the notebook. <br />On GitHub, the HTML representation is unable to render, please try loading this page with nbviewer.org.</b></div><div class=\"sk-container\" hidden><div class=\"sk-item sk-dashed-wrapped\"><div class=\"sk-label-container\"><div class=\"sk-label sk-toggleable\"><input class=\"sk-toggleable__control sk-hidden--visually\" id=\"sk-estimator-id-4\" type=\"checkbox\" ><label for=\"sk-estimator-id-4\" class=\"sk-toggleable__label sk-toggleable__label-arrow\">GridSearchCV</label><div class=\"sk-toggleable__content\"><pre>GridSearchCV(cv=5, estimator=SVC(random_state=42),\n",
              "             param_grid={&#x27;C&#x27;: [0.1, 1, 10, 100, 1000],\n",
              "                         &#x27;gamma&#x27;: [1, 0.1, 0.01, 0.001, 0.0001],\n",
              "                         &#x27;kernel&#x27;: [&#x27;linear&#x27;, &#x27;rbf&#x27;]},\n",
              "             scoring=&#x27;accuracy&#x27;)</pre></div></div></div><div class=\"sk-parallel\"><div class=\"sk-parallel-item\"><div class=\"sk-item\"><div class=\"sk-label-container\"><div class=\"sk-label sk-toggleable\"><input class=\"sk-toggleable__control sk-hidden--visually\" id=\"sk-estimator-id-5\" type=\"checkbox\" ><label for=\"sk-estimator-id-5\" class=\"sk-toggleable__label sk-toggleable__label-arrow\">estimator: SVC</label><div class=\"sk-toggleable__content\"><pre>SVC(random_state=42)</pre></div></div></div><div class=\"sk-serial\"><div class=\"sk-item\"><div class=\"sk-estimator sk-toggleable\"><input class=\"sk-toggleable__control sk-hidden--visually\" id=\"sk-estimator-id-6\" type=\"checkbox\" ><label for=\"sk-estimator-id-6\" class=\"sk-toggleable__label sk-toggleable__label-arrow\">SVC</label><div class=\"sk-toggleable__content\"><pre>SVC(random_state=42)</pre></div></div></div></div></div></div></div></div></div></div>"
            ],
            "text/plain": [
              "GridSearchCV(cv=5, estimator=SVC(random_state=42),\n",
              "             param_grid={'C': [0.1, 1, 10, 100, 1000],\n",
              "                         'gamma': [1, 0.1, 0.01, 0.001, 0.0001],\n",
              "                         'kernel': ['linear', 'rbf']},\n",
              "             scoring='accuracy')"
            ]
          },
          "execution_count": 45,
          "metadata": {},
          "output_type": "execute_result"
        }
      ],
      "source": [
        "param_grid = {\n",
        "    'C': [0.1, 1, 10, 100, 1000],\n",
        "    'kernel': ['linear', 'rbf'],\n",
        "    'gamma': [1, 0.1, 0.01, 0.001, 0.0001]\n",
        "}\n",
        "\n",
        "svm_ft = SVC(random_state=42)\n",
        "svm_ft_cv = GridSearchCV(estimator=svm_ft, param_grid=param_grid, scoring='accuracy', cv=5)\n",
        "svm_ft_cv.fit(x_train_ft, y_train)"
      ]
    },
    {
      "cell_type": "code",
      "execution_count": 46,
      "metadata": {
        "colab": {
          "base_uri": "https://localhost:8080/"
        },
        "id": "sA0aGQLyNUPr",
        "outputId": "32ddd9d9-3aa9-4327-b0f8-5f9a5e22df8a"
      },
      "outputs": [
        {
          "name": "stdout",
          "output_type": "stream",
          "text": [
            "{'C': 1, 'gamma': 1, 'kernel': 'linear'}\n"
          ]
        }
      ],
      "source": [
        "print(svm_ft_cv.best_params_)"
      ]
    },
    {
      "cell_type": "code",
      "execution_count": 47,
      "metadata": {
        "id": "2jNJ2ZabjwO6"
      },
      "outputs": [],
      "source": [
        "test_svm_ft=svm_ft_cv.predict(x_test_ft)"
      ]
    },
    {
      "cell_type": "code",
      "execution_count": 48,
      "metadata": {
        "colab": {
          "base_uri": "https://localhost:8080/"
        },
        "id": "A8EPnUChshg0",
        "outputId": "cbf7530f-7bb7-4185-ac70-25f538288c76"
      },
      "outputs": [
        {
          "name": "stdout",
          "output_type": "stream",
          "text": [
            "\n",
            "Classification Report\n",
            "\n",
            "              precision    recall  f1-score   support\n",
            "\n",
            "     Hiburan       1.00      1.00      1.00         3\n",
            "    Olahraga       1.00      0.67      0.80         3\n",
            "     Politik       0.75      1.00      0.86         3\n",
            "\n",
            "    accuracy                           0.89         9\n",
            "   macro avg       0.92      0.89      0.89         9\n",
            "weighted avg       0.92      0.89      0.89         9\n",
            "\n"
          ]
        }
      ],
      "source": [
        "print('\\nClassification Report\\n')\n",
        "print(classification_report(y_test, test_svm_ft))"
      ]
    },
    {
      "cell_type": "markdown",
      "metadata": {
        "id": "Nq7dhbflJPna"
      },
      "source": [
        "Berikut adalah penjelasan dari masing-masing nilai dalam classification report:\n",
        "\n",
        "* **Precision**\n",
        "> * **Hiburan: 1.00** berarti bahwa **100%** dari berita yang diprediksi sebagai Hiburan oleh model benar-benar adalah Hiburan.\n",
        "> * **Olahraga: 1.00** berarti bahwa **100%** dari berita yang diprediksi sebagai Olahraga oleh model benar-benar adalah Olahraga.\n",
        "> * **Politik: 0.75** berarti bahwa **75%** dari berita yang diprediksi sebagai Politik oleh model benar-benar adalah Politik.\n",
        "\n",
        "* **Recall**\n",
        "> * **Hiburan: 1.00** berarti model telah berhasil mengidentifikasi semua berita Hiburan.\n",
        "> * **Olahraga: 0.67** berarti model hanya berhasil mengidentifikasi **67%** dari berita Olahraga.\n",
        "> * Politik: **1.00** berarti model hanya berhasil mengidentifikasi semua dari berita Politik.\n",
        "* **F1-score**\n",
        "```\n",
        "Hiburan: 1.00\n",
        "Olahraga: 0.80\n",
        "Politik: 0.86\n",
        "```\n",
        "> F1-score merupakan kombinasi dari precision dan recall. F1-score yang tinggi menunjukkan bahwa model SVM mampu memprediksi kelas dengan baik, baik dari segi precision maupun recall.\n",
        "* **Macro avg**\n",
        "```\n",
        "Precision: 0.92\n",
        "Recall: 0.89\n",
        "F1-score: 0.89\n",
        "```\n",
        "> Macro avg merupakan rata-rata dari precision, recall, dan f1-score untuk semua kelas. Macro avg yang tinggi menunjukkan bahwa model SVM mampu memprediksi semua kelas dengan baik.\n",
        "\n",
        "* **Weighted avg**\n",
        "```\n",
        "Precision: 0.92\n",
        "Recall: 0.89\n",
        "F1-score: 0.89\n",
        "```\n",
        "> Weighted avg merupakan rata-rata dari precision, recall, dan f1-score untuk semua kelas, dengan bobot yang disesuaikan dengan jumlah data untuk masing-masing kelas. Weighted avg yang tinggi menunjukkan bahwa model SVM mampu memprediksi kelas dengan baik, bahkan untuk kelas dengan jumlah data yang sedikit."
      ]
    },
    {
      "cell_type": "markdown",
      "metadata": {
        "id": "py7T4badJ8Yy"
      },
      "source": [
        "Berdasarkan classification report diatas, model SVM dengan menggunkan metode FastText sebagai *text representation* memiliki performa yang sama dengan pada model SVM dengan menggunkan metode Skipgram sebagai *text representation*, dimana nilai accuracynya sama-sama memperoleh sebesar **0.89** atau **89%**."
      ]
    },
    {
      "cell_type": "markdown",
      "metadata": {
        "id": "drjuOR1FR2iS"
      },
      "source": [
        "---\n",
        "\n",
        "#### **Perbandingan antara model SVM menggunakan *text representation* Skipgram dan FastText**\n",
        "\n",
        "```\n",
        "Model: Support Vector Machine\n",
        "Parameter    FastText  | Skipgram\n",
        "Akurasi\t  89% \t  | 89%\n",
        "Precision\t0.92\t  | 0.92      \n",
        "Recall\t   0.89\t  | 0.89      \n",
        "F1-score\t 0.89\t  | 0.89\n",
        "```\n",
        "\n",
        "#### **Kesimpulan untuk model SVM**\n",
        "\n",
        "Dari kedua metode *text representation* yang digunakan untuk mengklasifikan topik berita menggunakan model SVM, dapat dilihat bahwa kedua model SVM yang menggunakan representasi teks **Skipgram maupun FastText, sama-sama memberikan nilai accuracy dan F1-Score yang sama.**"
      ]
    },
    {
      "cell_type": "markdown",
      "metadata": {
        "id": "H7XKcD5hP76W"
      },
      "source": [
        "## **Random Forest**"
      ]
    },
    {
      "cell_type": "markdown",
      "metadata": {
        "id": "yeZjm9O_bFZE"
      },
      "source": [
        "Dalam setiap model Random Forest yang saya kembangkan, saya menerapkan metode GridSearch. Metode ini digunakan untuk mencari dan menentukan hyperparameter terbaik yang dapat meningkatkan performa model. GridSearch bekerja dengan sistematis mencoba kombinasi berbagai hyperparameter dan menggunakan cross-validation untuk mengevaluasi performa setiap kombinasi. Dengan demikian, saya dapat memastikan bahwa model Random Forest yang saya kembangkan telah dioptimalkan dan mampu memberikan hasil terbaik tanpa membuat banyak model."
      ]
    },
    {
      "cell_type": "markdown",
      "metadata": {
        "id": "0ALXBBDZnD_g"
      },
      "source": [
        "#### **Random Forest using Skipgram**"
      ]
    },
    {
      "cell_type": "code",
      "execution_count": 49,
      "metadata": {
        "id": "znA3KugaP63A"
      },
      "outputs": [],
      "source": [
        "from sklearn.ensemble import RandomForestClassifier\n",
        "from sklearn.metrics import accuracy_score"
      ]
    },
    {
      "cell_type": "markdown",
      "metadata": {
        "id": "uVfmp9UmMtQl"
      },
      "source": [
        "**Testing set diubah menjadi vector terlebih dahulu**"
      ]
    },
    {
      "cell_type": "code",
      "execution_count": 50,
      "metadata": {
        "id": "dYE7nh3iP-Hj"
      },
      "outputs": [],
      "source": [
        "x_test_skip = vectorize_data_skipgram(X_test, model_skipgram)"
      ]
    },
    {
      "cell_type": "code",
      "execution_count": 51,
      "metadata": {
        "id": "KpwNNMazQEQp"
      },
      "outputs": [],
      "source": [
        "param_grid = {\n",
        "    'n_estimators': [100, 200, 300],\n",
        "    'criterion':['gini', 'entropy', 'log_loss'],\n",
        "    'max_depth':[2,4,6,8],\n",
        "}\n",
        "\n",
        "rf_skip = RandomForestClassifier()\n",
        "\n",
        "rf_skip_cv = GridSearchCV(estimator=rf_skip, param_grid=param_grid, scoring='accuracy', cv=5)\n",
        "rf_skip_cv.fit(x_train_skip, y_train)\n",
        "rf_skip_pred = rf_skip_cv.predict(x_test_skip)"
      ]
    },
    {
      "cell_type": "code",
      "execution_count": 52,
      "metadata": {
        "colab": {
          "base_uri": "https://localhost:8080/"
        },
        "id": "uTMfrbx0leYQ",
        "outputId": "4998f984-beac-4d30-e540-09cc0479be96"
      },
      "outputs": [
        {
          "name": "stdout",
          "output_type": "stream",
          "text": [
            "{'criterion': 'gini', 'max_depth': 4, 'n_estimators': 200}\n"
          ]
        }
      ],
      "source": [
        "print(rf_skip_cv.best_params_)"
      ]
    },
    {
      "cell_type": "code",
      "execution_count": null,
      "metadata": {
        "colab": {
          "base_uri": "https://localhost:8080/"
        },
        "id": "wFxYbJXqQZov",
        "outputId": "38911e8f-8c0f-4186-817c-f1e576e74b5f"
      },
      "outputs": [
        {
          "name": "stdout",
          "output_type": "stream",
          "text": [
            "              precision    recall  f1-score   support\n",
            "\n",
            "     Hiburan       0.75      1.00      0.86         3\n",
            "    Olahraga       1.00      0.33      0.50         3\n",
            "     Politik       0.75      1.00      0.86         3\n",
            "\n",
            "    accuracy                           0.78         9\n",
            "   macro avg       0.83      0.78      0.74         9\n",
            "weighted avg       0.83      0.78      0.74         9\n",
            "\n"
          ]
        }
      ],
      "source": [
        "print(classification_report(y_test, rf_skip_pred))"
      ]
    },
    {
      "cell_type": "markdown",
      "metadata": {
        "id": "NNfkYcGoivKb"
      },
      "source": [
        "Berikut adalah penjelasan dari masing-masing nilai dalam classification report:\n",
        "\n",
        "* **Precision**\n",
        "> * **Hiburan: 0.75** berarti bahwa **75%** dari berita yang diprediksi sebagai Hiburan oleh model benar-benar adalah Hiburan.\n",
        "> * **Olahraga: 1.00** berarti bahwa **100%** dari berita yang diprediksi sebagai Olahraga oleh model benar-benar adalah Olahraga.\n",
        ">* **Politik: 0.75** berarti bahwa **75%** dari berita yang diprediksi sebagai Politik oleh model benar-benar adalah Politik.\n",
        "\n",
        "\n",
        "* **Recall**\n",
        "> * **Hiburan: 1.00** berarti model telah berhasil mengidentifikasi semua berita Hiburan.\n",
        "> * **Olahraga: 0.33** berarti model hanya berhasil mengidentifikasi **33%** dari berita Olahraga.\n",
        "> * **Politik: 1.00** berarti model telah berhasil mengidentifikasi semua berita Politik.\n",
        "\n",
        "* **F1-score**\n",
        "```\n",
        "Hiburan: 0.86\n",
        "Olahraga: 0.50\n",
        "Politik: 0.86\n",
        "```\n",
        "> F1-score yang tinggi dari kelas `Hiburan` dan `Olahraga` menunjukkan bahwa model Random Forest mampu memprediksi kedua kelas dengan baik, baik dari segi precision maupun recall. Namun\n",
        "\n",
        "* **Macro avg**\n",
        "```\n",
        "Precision: 0.83\n",
        "Recall: 0.78\n",
        "F1-score: 0.74\n",
        "```\n",
        "> Macro avg cukup baik menunjukkan bahwa model Random Forest cukup mampu memprediksi semua kelas dengan baik.\n",
        "\n",
        "* **Weighted avg**\n",
        "```\n",
        "Precision: 0.83\n",
        "Recall: 0.78\n",
        "F1-score: 0.74\n",
        "```\n",
        "> Weighted avg yang cukup tinggi menunjukkan bahwa model Random Forest mampu memprediksi kelas dengan cukup baik."
      ]
    },
    {
      "cell_type": "markdown",
      "metadata": {
        "id": "KyX-MMulbQsb"
      },
      "source": [
        "\n",
        "Berdasarkan classification report di atas, model Random Forest dengan *text representation* Skipgram dapat memprediksi isi topik berita dengan akurasi sebesar 78% dan F1-Score sebesar 74%. Hal ini berarti model dapat memprediksi kelas topik berita dengan benar sebanyak 78% dari total 9.\n",
        "\n",
        "Secara keseluruhan, model Random Forest dengan *text representation* Skipgram dapat memprediksi isi topik berita dengan cukup baik."
      ]
    },
    {
      "cell_type": "markdown",
      "metadata": {
        "id": "OT-3JeYXnJGm"
      },
      "source": [
        "#### **Random Forest using FastText**"
      ]
    },
    {
      "cell_type": "markdown",
      "metadata": {
        "id": "KUp0dFgAMuzW"
      },
      "source": [
        "**Testing set diubah menjadi vector terlebih dahulu**"
      ]
    },
    {
      "cell_type": "code",
      "execution_count": 54,
      "metadata": {
        "id": "0NR1T1wGvgQW"
      },
      "outputs": [],
      "source": [
        "x_test_ft = vectorize_data_fasttext(X_test, ft_model)"
      ]
    },
    {
      "cell_type": "code",
      "execution_count": 55,
      "metadata": {
        "id": "bGWYUfMmnJGx"
      },
      "outputs": [],
      "source": [
        "param_grid = {\n",
        "    'n_estimators': [100, 200, 300],\n",
        "    'criterion':['gini', 'entropy', 'log_loss'],\n",
        "    'max_depth':[2,4,6,8],\n",
        "}\n",
        "\n",
        "rf_ft = RandomForestClassifier()\n",
        "\n",
        "rf_ft_cv = GridSearchCV(estimator=rf_ft, param_grid=param_grid, scoring='accuracy', cv=5)\n",
        "rf_ft_cv.fit(x_train_ft, y_train)\n",
        "rf_ft_pred = rf_ft_cv.predict(x_test_ft)"
      ]
    },
    {
      "cell_type": "code",
      "execution_count": 56,
      "metadata": {
        "colab": {
          "base_uri": "https://localhost:8080/"
        },
        "id": "hZCmVct-nJGy",
        "outputId": "c1cba1cc-d45f-41cd-a47e-c3fd06ef617f"
      },
      "outputs": [
        {
          "name": "stdout",
          "output_type": "stream",
          "text": [
            "{'criterion': 'gini', 'max_depth': 2, 'n_estimators': 100}\n"
          ]
        }
      ],
      "source": [
        "print(rf_ft_cv.best_params_)"
      ]
    },
    {
      "cell_type": "code",
      "execution_count": 57,
      "metadata": {
        "colab": {
          "base_uri": "https://localhost:8080/"
        },
        "id": "wo3ASnGYA4cr",
        "outputId": "ac5b622f-6d84-432c-baa3-150e0847e418"
      },
      "outputs": [
        {
          "name": "stdout",
          "output_type": "stream",
          "text": [
            "              precision    recall  f1-score   support\n",
            "\n",
            "     Hiburan       1.00      1.00      1.00         3\n",
            "    Olahraga       1.00      0.67      0.80         3\n",
            "     Politik       0.75      1.00      0.86         3\n",
            "\n",
            "    accuracy                           0.89         9\n",
            "   macro avg       0.92      0.89      0.89         9\n",
            "weighted avg       0.92      0.89      0.89         9\n",
            "\n"
          ]
        }
      ],
      "source": [
        "print(classification_report(y_test, rf_skip_pred))"
      ]
    },
    {
      "cell_type": "markdown",
      "metadata": {
        "id": "PRHlhL8tnAAC"
      },
      "source": [
        "Berikut adalah penjelasan dari masing-masing nilai dalam classification report:\n",
        "\n",
        "* **Precision**\n",
        "> * **Hiburan: 1.00** berarti bahwa **100%** dari berita yang diprediksi sebagai Hiburan oleh model benar-benar adalah Hiburan.\n",
        "> * **Olahraga: 1.00** berarti bahwa **100%** dari berita yang diprediksi sebagai Olahraga oleh model benar-benar adalah Olahraga.\n",
        "> * **Politik: 0.75** berarti bahwa **75%** dari berita yang diprediksi sebagai Politik oleh model benar-benar adalah Politik.\n",
        "\n",
        "* **Recall**\n",
        "> * **Hiburan: 1.00** berarti model telah berhasil mengidentifikasi semua berita Hiburan.\n",
        "> * **Olahraga: 0.67** berarti model hanya berhasil mengidentifikasi **67%** dari berita Olahraga.\n",
        "> * Politik: **1.00** berarti model hanya berhasil mengidentifikasi semua dari berita Politik.\n",
        "* **F1-score**\n",
        "```\n",
        "Hiburan: 1.00\n",
        "Olahraga: 0.80\n",
        "Politik: 0.86\n",
        "```\n",
        "> F1-score merupakan kombinasi dari precision dan recall. F1-score yang tinggi menunjukkan bahwa model SVM mampu memprediksi kelas dengan baik, baik dari segi precision maupun recall.\n",
        "* **Macro avg**\n",
        "```\n",
        "Precision: 0.92\n",
        "Recall: 0.89\n",
        "F1-score: 0.89\n",
        "```\n",
        "> Macro avg merupakan rata-rata dari precision, recall, dan f1-score untuk semua kelas. Macro avg yang tinggi menunjukkan bahwa model SVM mampu memprediksi semua kelas dengan baik.\n",
        "\n",
        "* **Weighted avg**\n",
        "```\n",
        "Precision: 0.92\n",
        "Recall: 0.89\n",
        "F1-score: 0.89\n",
        "```\n",
        "> Weighted avg merupakan rata-rata dari precision, recall, dan f1-score untuk semua kelas, dengan bobot yang disesuaikan dengan jumlah data untuk masing-masing kelas. Weighted avg yang tinggi menunjukkan bahwa model SVM mampu memprediksi kelas dengan baik, bahkan untuk kelas dengan jumlah data yang sedikit."
      ]
    },
    {
      "cell_type": "markdown",
      "metadata": {
        "id": "FCL_u_9LnFQe"
      },
      "source": [
        "Berdasarkan classification report di atas, model Random Forest menggunakan *text representation* FastText dapat memprediksi isi topik berita dengan akurasi sebesar **0.89** atau **89%**, yang bisa dikatakan memiliki performa yang sama jika dibandingkan dengan model SVM menggunakan metode Text Representation FastText maupun Skipgram.\n",
        "\n",
        "Secara keseluruhan, model Random Forest menggunakan *text representation* FastText dapat memprediksi isi topik berita dengan akurasi yang baik."
      ]
    },
    {
      "cell_type": "markdown",
      "metadata": {
        "id": "if1DHl8Rnuxh"
      },
      "source": [
        "---\n",
        "\n",
        "#### **Perbandingan antara model Random Forest menggunakan *text representation* Skipgram dan FastText**\n",
        "\n",
        "\n",
        "\n",
        "```\n",
        "Model: Random Forest Classifier\n",
        "Parameter    FastText  | Skipgram\n",
        "Akurasi\t  89% \t  | 78%\n",
        "Precision\t0.92\t  | 0.83\n",
        "Recall\t   0.89\t  | 0.78\n",
        "F1-score\t 0.89\t  | 0.74\n",
        "```\n",
        "\n",
        "\n",
        "#### **Kesimpulan untuk model Random Forest**\n",
        "\n",
        "Secara keseluruhan, model Random Forest menggunakan *text representation* FastText lebih baik untuk memprediksi isi topik berita secara keseluruhan, sedangkan untuk model Random Forest dengan *text representation* Skipgram memiliki hasil terendah dari seluruh model dan metode yang telah dicoba."
      ]
    },
    {
      "cell_type": "markdown",
      "metadata": {
        "id": "fktu4A65osVM"
      },
      "source": [
        "# **Conclusion**\n",
        "Berdasarkan perbandingan antara classification report dari model SVM dan Random Forest menggunakan *text representation* Skipgram dan FastText, dapat disimpulkan bahwa model SVM menggunakan *text representation* Skipgram, model SVM dengan menggunakan *text representation* FastText dan model Random Forest menggunakan *text representation* FastText, memiliki performa yang sama yaitu sebesar **89%** untuk accuracy dan F1-Score sebesar **89%**. Sedangkan model Random Forest menggunakan *text representation* Skipgram memiliki performa terendah dari ke-empat model ini, yaitu hanya sebesar 78% saja untuk accuracynya.\n",
        "\n",
        "Ketiga model ini memiliki performa yang sama mungkin karena beberapa alasan berikut:\n",
        "\n",
        "*   Dataset yang relatif kecil dimana hanya terdapat 42 berita, ukuran dataset yang terbatas mungkin menjadi faktor. Model mungkin berhasil mempelajari pola umum dalam dataset kecil ini, tetapi mungkin tidak cukup besar untuk mengungkapkan keunggulan satu metode representasi teks atas yang lainya.\n",
        "* Mungkin dataset berita ini memiliki karakteristik yang membuatnya cukup seragam dalam hal representasi teks. Jika topik dan gaya bahasa dalam berita seragam, model mungkin menghadapi kesulitan dalam membedakan antara kategori menggunakan kedua metode representasi.\n",
        "* Kemungkinan besar, representasi teks yang dihasilkan oleh Skipgram dan FastText pada dataset ini memiliki tingkat kesetaraan yang tinggi dalam konteks tugas klasifikasi berita ini. Ini bisa berarti bahwa keduanya berhasil menangkap informasi penting tentang topik berita dengan cara yang serupa meskipun keduanya memiliki nilai vektor yang berbeda.\n",
        "*   Dataset yang digunakan mungkin sudah sangat bersih dan telah melalui proses preprocessing yang baik, termasuk cleaning dan lemmatization. Hal ini bisa membuat kedua model dapat belajar dengan baik dari data tersebut.\n"
      ]
    },
    {
      "cell_type": "code",
      "execution_count": null,
      "metadata": {
        "id": "XTuNFB_5WHMj"
      },
      "outputs": [],
      "source": []
    },
    {
      "cell_type": "code",
      "execution_count": null,
      "metadata": {
        "id": "l1WPJfu-WPxP"
      },
      "outputs": [],
      "source": []
    },
    {
      "cell_type": "code",
      "execution_count": null,
      "metadata": {
        "id": "LUYrm8ysWTc_"
      },
      "outputs": [],
      "source": []
    },
    {
      "cell_type": "code",
      "execution_count": null,
      "metadata": {
        "id": "FUCcpAbEWTf0"
      },
      "outputs": [],
      "source": []
    },
    {
      "cell_type": "code",
      "execution_count": null,
      "metadata": {
        "id": "ddxFdzvBWTid"
      },
      "outputs": [],
      "source": []
    },
    {
      "cell_type": "code",
      "execution_count": null,
      "metadata": {
        "id": "Q6D_1-hKWTlV"
      },
      "outputs": [],
      "source": []
    },
    {
      "cell_type": "code",
      "execution_count": null,
      "metadata": {
        "id": "84zqznGDWTo6"
      },
      "outputs": [],
      "source": []
    }
  ],
  "metadata": {
    "colab": {
      "provenance": []
    },
    "kernelspec": {
      "display_name": "Python 3",
      "name": "python3"
    },
    "language_info": {
      "name": "python"
    }
  },
  "nbformat": 4,
  "nbformat_minor": 0
}
